{
 "cells": [
  {
   "cell_type": "code",
   "execution_count": null,
   "id": "530b51a9",
   "metadata": {},
   "outputs": [],
   "source": [
    "#homework\n",
    "\n",
    "#WAP to find the index of \" \" in \n",
    "\n",
    "#a = \" hello world I am python \"\n",
    "\n",
    "#WAP to create a billing system using string formating"
   ]
  },
  {
   "cell_type": "code",
   "execution_count": null,
   "id": "4a320151",
   "metadata": {},
   "outputs": [],
   "source": [
    "bill = str()\n",
    "all_total = 0 \n",
    "n = int(input(\"Enter a No.= \"))\n",
    "for i in range(n):\n",
    "    name = input(\"Enter Name =\")\n",
    "    price = float(input(\"Enter price =\"))\n",
    "    quantity = float(input(\"Enter Quantity =\"))\n",
    "    total = price * quantity\n",
    "    all_total += total \n",
    "    bill += f\"{name} buy {quantity} product worth RS.{price} and total is {total}\\n\"\n",
    "print(bill)"
   ]
  },
  {
   "cell_type": "code",
   "execution_count": null,
   "id": "af2b0817",
   "metadata": {},
   "outputs": [],
   "source": [
    "info = [['Ram',34,'kathmandu',100000],\n",
    "       ['Shyam',43,'bhaktapur',200000],\n",
    "       ['sita', 30,'lalitpur',30000],\n",
    "       ['hari', 25,'pokhara',40000]]\n",
    "\n"
   ]
  },
  {
   "cell_type": "code",
   "execution_count": null,
   "id": "628ffb30",
   "metadata": {},
   "outputs": [],
   "source": []
  }
 ],
 "metadata": {
  "kernelspec": {
   "display_name": "Python 3 (ipykernel)",
   "language": "python",
   "name": "python3"
  },
  "language_info": {
   "codemirror_mode": {
    "name": "ipython",
    "version": 3
   },
   "file_extension": ".py",
   "mimetype": "text/x-python",
   "name": "python",
   "nbconvert_exporter": "python",
   "pygments_lexer": "ipython3",
   "version": "3.11.5"
  }
 },
 "nbformat": 4,
 "nbformat_minor": 5
}
