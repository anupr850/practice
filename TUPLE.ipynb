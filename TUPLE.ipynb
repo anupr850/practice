{
 "cells": [
  {
   "cell_type": "code",
   "execution_count": null,
   "id": "696a2088",
   "metadata": {},
   "outputs": [],
   "source": [
    "# no create \n",
    "# no update \n",
    "# no delete \n",
    "\n"
   ]
  },
  {
   "cell_type": "code",
   "execution_count": 8,
   "id": "5ae3a254",
   "metadata": {},
   "outputs": [
    {
     "name": "stdout",
     "output_type": "stream",
     "text": [
      "<class 'tuple'>\n",
      "Ball\n"
     ]
    }
   ],
   "source": [
    "t = (\"Apple\",\"Ball\",\"Cat\",\"Dog\")\n",
    "print(type(t))\n",
    "print(t[1])"
   ]
  },
  {
   "cell_type": "code",
   "execution_count": 10,
   "id": "fd31113d",
   "metadata": {},
   "outputs": [
    {
     "name": "stdout",
     "output_type": "stream",
     "text": [
      "Yes\n"
     ]
    }
   ],
   "source": [
    "t = (\"Apple\",\"Ball\",\"Cat\",\"Dog\")\n",
    "if \"Apple\" in t:\n",
    "    print(\"Yes\")"
   ]
  },
  {
   "cell_type": "code",
   "execution_count": 12,
   "id": "25cdbda1",
   "metadata": {},
   "outputs": [
    {
     "name": "stdout",
     "output_type": "stream",
     "text": [
      "<class 'tuple'>\n",
      "(1, 2, 3, 4, 5, 3, 2, 4, 5, 2)\n"
     ]
    }
   ],
   "source": [
    "a = (1,2,3,4,5)\n",
    "b =(3,2,4,5,2)\n",
    "c = a + b\n",
    "print(type(c))\n",
    "print(c)"
   ]
  },
  {
   "cell_type": "code",
   "execution_count": 18,
   "id": "ff79d880",
   "metadata": {},
   "outputs": [
    {
     "name": "stdout",
     "output_type": "stream",
     "text": [
      "ENter the value if n = 3\n",
      "Enter the value of x = Apple\n",
      "Enter the value of x = Ball\n",
      "Enter the value of x = Cat\n",
      "('Apple', 'Ball', 'Cat')\n",
      "['Apple', 'Ball', 'Cat']\n"
     ]
    }
   ],
   "source": [
    "t =()\n",
    "n = int(input(\"ENter the value if n = \"))\n",
    "for i in range(n):\n",
    "              x = input(\"Enter the value of x = \")\n",
    "              t += (x,)\n",
    "                  \n",
    "                               \n",
    "print(t)\n",
    "\n",
    "a = list(t)  # to change tuple in list \n",
    "print(a)\n",
    "                \n",
    "             "
   ]
  },
  {
   "cell_type": "code",
   "execution_count": 19,
   "id": "10ea55b5",
   "metadata": {},
   "outputs": [
    {
     "name": "stdout",
     "output_type": "stream",
     "text": [
      "((1, 2, 3), (4, 5, 6), (7, 8, 9))\n"
     ]
    }
   ],
   "source": [
    "#tuple inside tuple\n",
    "\n",
    "t = ((1,2,3),\n",
    "     (4,5,6),\n",
    "     (7,8,9))\n",
    "print(t)"
   ]
  },
  {
   "cell_type": "code",
   "execution_count": 20,
   "id": "fe91632d",
   "metadata": {},
   "outputs": [
    {
     "name": "stdout",
     "output_type": "stream",
     "text": [
      "enter the value of n2\n",
      "ENter name = ram \n",
      "ENter age = 34\n",
      "Enter address = kathmandu \n",
      "ENter name = Shyam \n",
      "ENter age = 45\n",
      "Enter address = lalitpur \n",
      "(('ram ', 34, 'kathmandu '), ('Shyam ', 45, 'lalitpur '))\n"
     ]
    }
   ],
   "source": [
    "#tuple inside tuple\n",
    "t = ()\n",
    "n = int(input(\"enter the value of n\"))\n",
    "for i in range(n):\n",
    "    name= input(\"ENter name = \")\n",
    "    age = int(input(\"ENter age = \"))\n",
    "    add = input(\"Enter address = \")\n",
    "    x = (name, age, add)\n",
    "    t += (x,)\n",
    "    \n",
    "print(t)\n",
    "    "
   ]
  },
  {
   "cell_type": "code",
   "execution_count": null,
   "id": "5c7a8408",
   "metadata": {},
   "outputs": [],
   "source": [
    "#list inside tuple\n",
    "\n"
   ]
  }
 ],
 "metadata": {
  "kernelspec": {
   "display_name": "Python 3 (ipykernel)",
   "language": "python",
   "name": "python3"
  },
  "language_info": {
   "codemirror_mode": {
    "name": "ipython",
    "version": 3
   },
   "file_extension": ".py",
   "mimetype": "text/x-python",
   "name": "python",
   "nbconvert_exporter": "python",
   "pygments_lexer": "ipython3",
   "version": "3.11.5"
  }
 },
 "nbformat": 4,
 "nbformat_minor": 5
}
