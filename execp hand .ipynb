{
 "cells": [
  {
   "cell_type": "code",
   "execution_count": null,
   "id": "6350ba5b",
   "metadata": {},
   "outputs": [],
   "source": [
    "# try:\n",
    "#     <operation>\n",
    "# execpt:\n",
    "#     <operation>"
   ]
  },
  {
   "cell_type": "code",
   "execution_count": 5,
   "id": "7db2c9ce",
   "metadata": {},
   "outputs": [
    {
     "name": "stdout",
     "output_type": "stream",
     "text": [
      "Enter the valye of x = f\n",
      "Error ! , please the correct value\n"
     ]
    }
   ],
   "source": [
    "try:\n",
    "    x = int(input(\"Enter the valye of x = \"))\n",
    "    y = int(input(\"Enter the value of y = \"))\n",
    "    z = x+y\n",
    "    print(z)\n",
    "    \n",
    "except:\n",
    "    print(\"Error ! , please the correct value\")"
   ]
  },
  {
   "cell_type": "code",
   "execution_count": 3,
   "id": "8fed048a",
   "metadata": {},
   "outputs": [
    {
     "name": "stdout",
     "output_type": "stream",
     "text": [
      "Enter the valye of x = 4\n",
      "Enter the value of y = 5\n",
      "9\n"
     ]
    }
   ],
   "source": [
    "def cal():\n",
    "    try:\n",
    "        x = int(input(\"Enter the valye of x = \"))\n",
    "        y = int(input(\"Enter the value of y = \"))\n",
    "        z = x+y\n",
    "        print(z)\n",
    "\n",
    "    except:\n",
    "        print(\"Error ! , please the correct value\")\n",
    "        \n",
    "cal()"
   ]
  },
  {
   "cell_type": "code",
   "execution_count": 4,
   "id": "e9f49aba",
   "metadata": {},
   "outputs": [
    {
     "name": "stdout",
     "output_type": "stream",
     "text": [
      "Enter the valye of x = d\n",
      "Error ! , please the correct value\n",
      "Enter the valye of x = f\n",
      "Error ! , please the correct value\n",
      "Enter the valye of x = y\n",
      "Error ! , please the correct value\n",
      "Enter the valye of x = 4\n",
      "Enter the value of y = t\n",
      "Error ! , please the correct value\n",
      "Enter the valye of x = 4\n",
      "Enter the value of y = 2\n",
      "6\n"
     ]
    }
   ],
   "source": [
    "def cal():\n",
    "    try:\n",
    "        x = int(input(\"Enter the valye of x = \"))\n",
    "        y = int(input(\"Enter the value of y = \"))\n",
    "        z = x+y\n",
    "        print(z)\n",
    "\n",
    "    except:\n",
    "        print(\"Error ! , please the correct value\")\n",
    "        cal()\n",
    "        \n",
    "cal()"
   ]
  },
  {
   "cell_type": "code",
   "execution_count": 8,
   "id": "56c7e024",
   "metadata": {},
   "outputs": [
    {
     "name": "stdout",
     "output_type": "stream",
     "text": [
      "Enter the valye of x = 0\n",
      "Enter the value of y = 0\n",
      "Enter, The value of y which can't be zero\n"
     ]
    }
   ],
   "source": [
    "try:\n",
    "    x = int(input(\"Enter the valye of x = \"))\n",
    "    y = int(input(\"Enter the value of y = \"))\n",
    "    z = x/y\n",
    "    print(z)\n",
    "\n",
    "except ValueError:\n",
    "    print(\"Error ! , please the correct value\")\n",
    "    \n",
    "except ZeroDivisionError:\n",
    "    print(\"Enter, The value of y which can't be zero\")\n",
    "\n"
   ]
  },
  {
   "cell_type": "code",
   "execution_count": 14,
   "id": "4a2ff516",
   "metadata": {},
   "outputs": [
    {
     "name": "stdout",
     "output_type": "stream",
     "text": [
      "Enter the valye of x = d\n",
      "Error ! , please the correct value\n",
      "Enter the valye of x = r\n",
      "Error ! , please the correct value\n",
      "Enter the valye of x = f\n",
      "Error ! , please the correct value\n",
      "Enter the valye of x = 5\n",
      "Enter the value of y = y\n",
      "Error ! , please the correct value\n",
      "Enter the valye of x = 6\n",
      "Enter the value of y = 3\n",
      "2.0\n"
     ]
    }
   ],
   "source": [
    "def cal():\n",
    "    try:\n",
    "        x = int(input(\"Enter the valye of x = \"))\n",
    "        y = int(input(\"Enter the value of y = \"))\n",
    "        z = x/y\n",
    "        print(z)\n",
    "\n",
    "    except ValueError:\n",
    "        print(\"Error ! , please the correct value\")\n",
    "        cal()\n",
    "        \n",
    "\n",
    "    except ZeroDivisionError:\n",
    "        print(\"Enter, The value of y which can't be zero\")\n",
    "        cal()\n",
    "   \n",
    "    \n",
    "cal()\n",
    "\n",
    "\n"
   ]
  },
  {
   "cell_type": "code",
   "execution_count": 15,
   "id": "fd00d6b8",
   "metadata": {},
   "outputs": [
    {
     "name": "stdout",
     "output_type": "stream",
     "text": [
      "Enter the valye of x = 4\n",
      "Enter the value of y = 5\n",
      "9\n"
     ]
    }
   ],
   "source": [
    "try:\n",
    "    x = int(input(\"Enter the valye of x = \"))\n",
    "    y = int(input(\"Enter the value of y = \"))\n",
    "    z = x+y\n",
    "    \n",
    "    \n",
    "except:\n",
    "    print(\"Error ! , please the correct value\")\n",
    "    \n",
    "else:\n",
    "    print(z)"
   ]
  },
  {
   "cell_type": "code",
   "execution_count": 16,
   "id": "e4df97ff",
   "metadata": {},
   "outputs": [
    {
     "name": "stdout",
     "output_type": "stream",
     "text": [
      "Enter the valye of x = 4\n",
      "Enter the value of y = 5\n",
      "9\n",
      "Thank you1\n"
     ]
    }
   ],
   "source": [
    "try:\n",
    "    x = int(input(\"Enter the valye of x = \"))\n",
    "    y = int(input(\"Enter the value of y = \"))\n",
    "    z = x+y\n",
    "    \n",
    "    \n",
    "except:\n",
    "    print(\"Error ! , please the correct value\")\n",
    "    \n",
    "else:\n",
    "    print(z)\n",
    "    \n",
    "    \n",
    "finally:\n",
    "    print(\"Thank you\")\n"
   ]
  },
  {
   "cell_type": "code",
   "execution_count": 20,
   "id": "a6baf792",
   "metadata": {},
   "outputs": [
    {
     "name": "stdout",
     "output_type": "stream",
     "text": [
      "Enter Age = 25\n"
     ]
    }
   ],
   "source": [
    "try:\n",
    "    age = int(input(\"Enter Age = \"))\n",
    "    assert  age >=20                         # it is use as a conditional \n",
    "\n",
    "except AssertionError:\n",
    "    print(\"The Age should be greater or equal than 20\")\n",
    "    \n",
    "except ValueError:\n",
    "    print(\"The Age should be in intiger\")\n",
    "    "
   ]
  },
  {
   "cell_type": "code",
   "execution_count": 21,
   "id": "1e5d0b49",
   "metadata": {},
   "outputs": [
    {
     "name": "stdout",
     "output_type": "stream",
     "text": [
      "Enter Age = 34\n",
      "your age is = 34\n"
     ]
    }
   ],
   "source": [
    "try:\n",
    "    age = int(input(\"Enter Age = \"))\n",
    "    assert  age >=20                         # it is use as a conditional \n",
    "\n",
    "except AssertionError:\n",
    "    print(\"The Age should be greater or equal than 20\")\n",
    "    \n",
    "except ValueError:\n",
    "    print(\"The Age should be in intiger\")\n",
    "    \n",
    "else:\n",
    "    print(\"your age is =\", age)"
   ]
  },
  {
   "cell_type": "code",
   "execution_count": 22,
   "id": "64002f2c",
   "metadata": {},
   "outputs": [
    {
     "ename": "ValueError",
     "evalue": "",
     "output_type": "error",
     "traceback": [
      "\u001b[1;31m---------------------------------------------------------------------------\u001b[0m",
      "\u001b[1;31mValueError\u001b[0m                                Traceback (most recent call last)",
      "Cell \u001b[1;32mIn[22], line 1\u001b[0m\n\u001b[1;32m----> 1\u001b[0m \u001b[38;5;28;01mraise\u001b[39;00m \u001b[38;5;167;01mValueError\u001b[39;00m\n",
      "\u001b[1;31mValueError\u001b[0m: "
     ]
    }
   ],
   "source": [
    "raise ValueError\n"
   ]
  },
  {
   "cell_type": "code",
   "execution_count": 28,
   "id": "7fc77136",
   "metadata": {},
   "outputs": [
    {
     "name": "stdout",
     "output_type": "stream",
     "text": [
      "Enter the valye of x = 40\n",
      "Enter the value of y = 0\n",
      "Error ! , please the correct value\n"
     ]
    }
   ],
   "source": [
    "try:\n",
    "    x = int(input(\"Enter the valye of x = \"))\n",
    "    y = int(input(\"Enter the value of y = \"))\n",
    "    \n",
    "    if type(x) is int and type(y) is int:\n",
    "        raise ValueError\n",
    "    \n",
    "    if y==0:\n",
    "        raise ZeroDivisonError\n",
    "        \n",
    "    z = x/y\n",
    "        \n",
    "except ValueError:\n",
    "    print(\"Error ! , please the correct value\")\n",
    "    \n",
    "except ZeroDivisonError:\n",
    "    print(\"The Value of y can't be zero\")"
   ]
  },
  {
   "cell_type": "code",
   "execution_count": null,
   "id": "08564bf7",
   "metadata": {},
   "outputs": [],
   "source": []
  }
 ],
 "metadata": {
  "kernelspec": {
   "display_name": "Python 3 (ipykernel)",
   "language": "python",
   "name": "python3"
  },
  "language_info": {
   "codemirror_mode": {
    "name": "ipython",
    "version": 3
   },
   "file_extension": ".py",
   "mimetype": "text/x-python",
   "name": "python",
   "nbconvert_exporter": "python",
   "pygments_lexer": "ipython3",
   "version": "3.11.5"
  }
 },
 "nbformat": 4,
 "nbformat_minor": 5
}
