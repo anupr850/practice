{
 "cells": [
  {
   "cell_type": "code",
   "execution_count": 1,
   "id": "bba6ab62",
   "metadata": {},
   "outputs": [
    {
     "name": "stdout",
     "output_type": "stream",
     "text": [
      "Apple Ball Cat "
     ]
    }
   ],
   "source": [
    "d = {'a':'Apple','b':'Ball','c':'Cat'}\n",
    "for i in d.values():\n",
    "    print(i,end = \" \")"
   ]
  },
  {
   "cell_type": "code",
   "execution_count": 3,
   "id": "d3ef678f",
   "metadata": {},
   "outputs": [
    {
     "name": "stdout",
     "output_type": "stream",
     "text": [
      "a b c "
     ]
    }
   ],
   "source": [
    "d = {'a':'Apple','b':'Ball','c':'Cat'}\n",
    "for i in d:\n",
    "    print(i,end = \" \")"
   ]
  },
  {
   "cell_type": "code",
   "execution_count": 4,
   "id": "21a0d907",
   "metadata": {},
   "outputs": [
    {
     "name": "stdout",
     "output_type": "stream",
     "text": [
      "('a', 'Apple') ('b', 'Ball') ('c', 'Cat') "
     ]
    }
   ],
   "source": [
    "d = {'a':'Apple','b':'Ball','c':'Cat'}\n",
    "for i in d.items():\n",
    "    print(i,end = \" \")"
   ]
  },
  {
   "cell_type": "code",
   "execution_count": 6,
   "id": "8165beee",
   "metadata": {},
   "outputs": [
    {
     "data": {
      "text/plain": [
       "{'a': 'Apple', 'b': 'Ball', 'c': 'Cat'}"
      ]
     },
     "execution_count": 6,
     "metadata": {},
     "output_type": "execute_result"
    }
   ],
   "source": [
    "d = [['a','Apple'],['b','Ball'],['c','Cat']]\n",
    "dict(d)"
   ]
  },
  {
   "cell_type": "code",
   "execution_count": 8,
   "id": "708189ca",
   "metadata": {},
   "outputs": [
    {
     "data": {
      "text/plain": [
       "[('a', 'Apple'), ('b', 'Ball'), ('c', 'Cat')]"
      ]
     },
     "execution_count": 8,
     "metadata": {},
     "output_type": "execute_result"
    }
   ],
   "source": [
    "d = {'a':'Apple','b':'Ball','c':'Cat'}\n",
    "list(d.items())"
   ]
  },
  {
   "cell_type": "code",
   "execution_count": 16,
   "id": "3175c18f",
   "metadata": {},
   "outputs": [
    {
     "name": "stdout",
     "output_type": "stream",
     "text": [
      "{'a': 'apple', 'b': 'ball', 'c': 'cat', 'd': 'dog'}\n"
     ]
    }
   ],
   "source": [
    "#to add value in dict\n",
    "d = {}\n",
    "d['a'] = 'apple'\n",
    "d['b'] = 'ball'\n",
    "d['c'] = 'cat'\n",
    "d['d'] = 'dog'\n",
    "print(d)\n"
   ]
  },
  {
   "cell_type": "code",
   "execution_count": 17,
   "id": "3635fbfa",
   "metadata": {},
   "outputs": [
    {
     "name": "stdout",
     "output_type": "stream",
     "text": [
      "{'a': 'ant', 'b': 'ball', 'c': 'cat', 'd': 'dog'}\n"
     ]
    }
   ],
   "source": [
    "a = {'a': 'apple', 'b': 'ball', 'c': 'cat', 'd': 'dog'} #update dict value \n",
    "a['a'] = 'ant'\n",
    "print(a)"
   ]
  },
  {
   "cell_type": "code",
   "execution_count": 18,
   "id": "2dc2e5ee",
   "metadata": {},
   "outputs": [
    {
     "name": "stdout",
     "output_type": "stream",
     "text": [
      "{'a': 'apple', 'b': 'ball', 'c': 'cat'}\n"
     ]
    }
   ],
   "source": [
    "a = {'a': 'apple', 'b': 'ball', 'c': 'cat', 'd': 'dog'} # to delete the value \n",
    "del a['d']\n",
    "print(a)"
   ]
  },
  {
   "cell_type": "code",
   "execution_count": 20,
   "id": "f4020eda",
   "metadata": {},
   "outputs": [
    {
     "name": "stdout",
     "output_type": "stream",
     "text": [
      "{'b': 'ball', 'c': 'cat', 'd': 'dog'}\n",
      "apple\n"
     ]
    }
   ],
   "source": [
    "a = {'a': 'apple', 'b': 'ball', 'c': 'cat', 'd': 'dog'} #to delete the value and there is no remove tag to delete in dict \n",
    "b = a.pop('a')\n",
    "print(a)\n",
    "print(b)"
   ]
  },
  {
   "cell_type": "code",
   "execution_count": 23,
   "id": "51147622",
   "metadata": {},
   "outputs": [
    {
     "name": "stdout",
     "output_type": "stream",
     "text": [
      "Enter the value of n = 1\n",
      "Enter the person name = ntc\n",
      "Enter Phone No. = 123456789\n",
      "{123456789: 'ntc'}\n"
     ]
    }
   ],
   "source": [
    "d ={}\n",
    "n = int(input(\"Enter the value of n = \"))\n",
    "for i in range (n):\n",
    "    name = input('Enter the person name = ')\n",
    "    phone = int(input(\"Enter Phone No. = \"))\n",
    "    d[phone]= name\n",
    "    \n",
    "print(d)"
   ]
  },
  {
   "cell_type": "code",
   "execution_count": 25,
   "id": "2bb7c264",
   "metadata": {},
   "outputs": [
    {
     "name": "stdout",
     "output_type": "stream",
     "text": [
      "{'Ram': [1234567, 891234], 'shyam': [4354645364, 565745754]}\n",
      "891234\n"
     ]
    }
   ],
   "source": [
    "#list inside dict \n",
    "d = {'Ram' : [1234567, 891234], 'shyam' : [4354645364,565745754]}\n",
    "print(d)\n",
    "print(d['Ram'][1])"
   ]
  },
  {
   "cell_type": "code",
   "execution_count": 27,
   "id": "40659fcd",
   "metadata": {},
   "outputs": [
    {
     "name": "stdout",
     "output_type": "stream",
     "text": [
      "Enter the value of n = 1\n",
      "Enter the person name = kris\n",
      "Enter  first Phone No. = 14545345\n",
      "enter second Phone No. = 45645654\n",
      "{'kris': [14545345, 45645654]}\n"
     ]
    }
   ],
   "source": [
    "d ={}\n",
    "n = int(input(\"Enter the value of n = \"))\n",
    "for i in range (n):\n",
    "    name = input('Enter the person name = ')\n",
    "    first_phone = int(input(\"Enter  first Phone No. = \"))\n",
    "    second_phone = int(input(\"enter second Phone No. = \"))\n",
    "    d[name]= [first_phone,second_phone]\n",
    "    \n",
    "print(d)"
   ]
  },
  {
   "cell_type": "code",
   "execution_count": 28,
   "id": "582345bc",
   "metadata": {},
   "outputs": [
    {
     "name": "stdout",
     "output_type": "stream",
     "text": [
      "{'name': ['Ram', 'Shyam', 'Ram'], 'ntc_phone': [45454365435, 567565756, 45754755], 'ncell_phone': [345345435, 345436435, 65756657]}\n"
     ]
    }
   ],
   "source": [
    "d = {'name':['Ram','Shyam','Ram'],\n",
    "    'ntc_phone':[45454365435,567565756,45754755],\n",
    "    'ncell_phone':[345345435,345436435,65756657]}\n",
    "print(d)"
   ]
  },
  {
   "cell_type": "code",
   "execution_count": 30,
   "id": "6657df44",
   "metadata": {},
   "outputs": [
    {
     "name": "stdout",
     "output_type": "stream",
     "text": [
      "Enter the value of n = 1\n",
      "Enter name = ram \n",
      "Enter ntc phone number = 5435435\n",
      "Enter ncell phone number= 34543534\n"
     ]
    },
    {
     "ename": "AttributeError",
     "evalue": "'dict' object has no attribute 'append'",
     "output_type": "error",
     "traceback": [
      "\u001b[1;31m---------------------------------------------------------------------------\u001b[0m",
      "\u001b[1;31mAttributeError\u001b[0m                            Traceback (most recent call last)",
      "Cell \u001b[1;32mIn[30], line 9\u001b[0m\n\u001b[0;32m      7\u001b[0m     ntc_phone \u001b[38;5;241m=\u001b[39m \u001b[38;5;28mint\u001b[39m(\u001b[38;5;28minput\u001b[39m(\u001b[38;5;124m'\u001b[39m\u001b[38;5;124mEnter ntc phone number = \u001b[39m\u001b[38;5;124m'\u001b[39m))\n\u001b[0;32m      8\u001b[0m     ncell_phone \u001b[38;5;241m=\u001b[39m \u001b[38;5;28mint\u001b[39m(\u001b[38;5;28minput\u001b[39m(\u001b[38;5;124m'\u001b[39m\u001b[38;5;124mEnter ncell phone number= \u001b[39m\u001b[38;5;124m'\u001b[39m))\n\u001b[1;32m----> 9\u001b[0m     d[ntc_phone] \u001b[38;5;241m=\u001b[39m d\u001b[38;5;241m.\u001b[39mappend(ntc_phone)\n\u001b[0;32m     10\u001b[0m     d[ncell_phone]\u001b[38;5;241m=\u001b[39m  d\u001b[38;5;241m.\u001b[39mappend(ncell_phone)\n\u001b[0;32m     12\u001b[0m \u001b[38;5;28mprint\u001b[39m(d)\n",
      "\u001b[1;31mAttributeError\u001b[0m: 'dict' object has no attribute 'append'"
     ]
    }
   ],
   "source": [
    "d = {'name':[],\n",
    "    'ntc_phone':[],\n",
    "    'ncell_phone':[]}\n",
    "n = int(input(\"Enter the value of n = \"))\n",
    "for i in range(n):\n",
    "    name = input('Enter name = ')\n",
    "    ntc_phone = int(input('Enter ntc phone number = '))\n",
    "    ncell_phone = int(input('Enter ncell phone number= '))\n",
    "    d[ntc_phone] = d.append(ntc_phone)\n",
    "    d[ncell_phone]=  d.append(ncell_phone)\n",
    "    \n",
    "print(d)"
   ]
  },
  {
   "cell_type": "code",
   "execution_count": 31,
   "id": "9d0af0bd",
   "metadata": {},
   "outputs": [
    {
     "ename": "SyntaxError",
     "evalue": "invalid syntax (3497395084.py, line 2)",
     "output_type": "error",
     "traceback": [
      "\u001b[1;36m  Cell \u001b[1;32mIn[31], line 2\u001b[1;36m\u001b[0m\n\u001b[1;33m    d = {['name': 'Ram', 'age':34,'add':'kathmandu'],\u001b[0m\n\u001b[1;37m                ^\u001b[0m\n\u001b[1;31mSyntaxError\u001b[0m\u001b[1;31m:\u001b[0m invalid syntax\n"
     ]
    }
   ],
   "source": [
    "#dict inside list \n",
    "d = {['name': 'Ram', 'age':34,'add':'kathmandu'],\n",
    "    ['name': 'Shyam', 'age':44,'add':'Bhaktapur'],\n",
    "    ['name': 'Hari', 'age':54,'add':'Lalitpur']}\n",
    "print(d)"
   ]
  },
  {
   "cell_type": "code",
   "execution_count": 1,
   "id": "30dc9b3c",
   "metadata": {},
   "outputs": [
    {
     "name": "stdout",
     "output_type": "stream",
     "text": [
      "<class 'dict'>\n"
     ]
    }
   ],
   "source": [
    "#dict inside dict \n",
    "d = {1:{'name': 'Ram', 'age':34,'add':'kathmandu'},\n",
    "    2:{'name': 'Shyam', 'age':44,'add':'Bhaktapur'},\n",
    "    3:{'name': 'Hari', 'age':54,'add':'Lalitpur'}}\n",
    "print(type(d))"
   ]
  },
  {
   "cell_type": "code",
   "execution_count": 6,
   "id": "077fa003",
   "metadata": {},
   "outputs": [
    {
     "name": "stdout",
     "output_type": "stream",
     "text": [
      "Enter the value of n =2\n",
      "Enter Name = ram \n",
      "Enter age = 34\n",
      "Enter address = bhaktapur\n",
      "Enter Name = Shyam \n",
      "Enter age = 45\n",
      "Enter address = lalitpur\n",
      "{1: {'name': 'ram ', 'age': 34, 'add': 'bhaktapur'}, 2: {'name': 'Shyam ', 'age': 45, 'add': 'lalitpur'}}\n"
     ]
    }
   ],
   "source": [
    "d ={}\n",
    "n = int(input(\"Enter the value of n =\"))\n",
    "for i in range(1,n+1):\n",
    "    name = input(\"Enter Name = \")\n",
    "    age = int(input(\"Enter age = \"))\n",
    "    add = input(\"Enter address = \")\n",
    "    x = {'name':name, 'age':age, 'add':add}\n",
    "    d[i] = x\n",
    "    \n",
    "print(d)"
   ]
  },
  {
   "cell_type": "code",
   "execution_count": 9,
   "id": "2fd20f00",
   "metadata": {},
   "outputs": [
    {
     "name": "stdout",
     "output_type": "stream",
     "text": [
      "{2: {'name': 'Shyam ', 'age': 45, 'add': 'lalitpur'}}\n"
     ]
    }
   ],
   "source": [
    "a = {1: {'name': 'ram ', 'age': 34, 'add': 'bhaktapur'}, 2: {'name': 'Shyam ', 'age': 45, 'add': 'lalitpur'}}\n",
    "del a[1]\n",
    "print(a)"
   ]
  },
  {
   "cell_type": "code",
   "execution_count": 14,
   "id": "9c29b804",
   "metadata": {},
   "outputs": [
    {
     "name": "stdout",
     "output_type": "stream",
     "text": [
      "1: {'name': 'ram ', 'age': 34, 'add': 'bhaktapur', 'temporary': 'patan'}\n",
      "2: {'name': 'Shyam ', 'age': 45, 'add': 'lalitpur', 'temporary': 'lagankhel'}\n"
     ]
    }
   ],
   "source": [
    "a = {1: {'name': 'ram ', 'age': 34, 'add': 'bhaktapur', 'temporary':'patan'}, 2: {'name': 'Shyam ', 'age': 45, 'add': 'lalitpur', 'temporary':'lagankhel'}}\n",
    "for key, value in a.items():\n",
    "    print(f\"{key}: {value}\")"
   ]
  },
  {
   "cell_type": "code",
   "execution_count": null,
   "id": "025bdc1b",
   "metadata": {},
   "outputs": [],
   "source": []
  }
 ],
 "metadata": {
  "kernelspec": {
   "display_name": "Python 3 (ipykernel)",
   "language": "python",
   "name": "python3"
  },
  "language_info": {
   "codemirror_mode": {
    "name": "ipython",
    "version": 3
   },
   "file_extension": ".py",
   "mimetype": "text/x-python",
   "name": "python",
   "nbconvert_exporter": "python",
   "pygments_lexer": "ipython3",
   "version": "3.11.5"
  }
 },
 "nbformat": 4,
 "nbformat_minor": 5
}
