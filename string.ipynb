{
 "cells": [
  {
   "cell_type": "code",
   "execution_count": 2,
   "id": "c6592328",
   "metadata": {},
   "outputs": [
    {
     "name": "stdout",
     "output_type": "stream",
     "text": [
      "hello woeld"
     ]
    }
   ],
   "source": [
    "a = \"hello woeld\"\n",
    "for i in a:\n",
    "    print(i, end =\"\")"
   ]
  },
  {
   "cell_type": "code",
   "execution_count": 7,
   "id": "5978c7a1",
   "metadata": {},
   "outputs": [
    {
     "name": "stdout",
     "output_type": "stream",
     "text": [
      "l\n",
      "hello w\n",
      "hlwlimsgy\n"
     ]
    }
   ],
   "source": [
    "a =\"hello world i am using python\"\n",
    "print(a[2])\n",
    "print(a[0:7])\n",
    "print(a[0:25:3])"
   ]
  },
  {
   "cell_type": "code",
   "execution_count": 14,
   "id": "5befe94d",
   "metadata": {},
   "outputs": [
    {
     "name": "stdout",
     "output_type": "stream",
     "text": [
      "29\n",
      "n\n",
      "nohtyp gnisu ma i dlrow olleh\n"
     ]
    }
   ],
   "source": [
    "a =\"hello world i am using python\"\n",
    "print(len(a))\n",
    "print(a[-1]) #to print from lastc-1 is used \n",
    "print(a[::-1])  # to print from backward if we dont know the no. to put to print from last ::-1 is used\n"
   ]
  },
  {
   "cell_type": "code",
   "execution_count": 16,
   "id": "4d2edbca",
   "metadata": {},
   "outputs": [
    {
     "name": "stdout",
     "output_type": "stream",
     "text": [
      "h e l l o   w o r l d   i   a m   u s i n g   p y t h o n "
     ]
    }
   ],
   "source": [
    "a =\"hello world i am using python\"   #using for loop\n",
    "n = len(a)\n",
    "for i in range(n):\n",
    "    print(a[i], end=\"\")"
   ]
  },
  {
   "cell_type": "code",
   "execution_count": 18,
   "id": "168e2da4",
   "metadata": {},
   "outputs": [
    {
     "name": "stdout",
     "output_type": "stream",
     "text": [
      "hello world i am using python"
     ]
    }
   ],
   "source": [
    "i = 0\n",
    "a =\"hello world i am using python\"\n",
    "n = len(a)\n",
    "while i<n:\n",
    "    print(a[i], end=\"\")\n",
    "    i += 1"
   ]
  },
  {
   "cell_type": "code",
   "execution_count": null,
   "id": "22712ee7",
   "metadata": {},
   "outputs": [],
   "source": [
    "#homework\n",
    "\n",
    "#WAP to find the index of \" \" in \n",
    "\n",
    "#a = \" hello world I am python \"\n",
    "\n",
    "#WAP to create a billing system using string formating"
   ]
  },
  {
   "cell_type": "code",
   "execution_count": 19,
   "id": "029d96bc",
   "metadata": {},
   "outputs": [
    {
     "name": "stdout",
     "output_type": "stream",
     "text": [
      "hello world ram. I am 34 years old. i am fromkathmandu\n"
     ]
    }
   ],
   "source": [
    "#string formating\n",
    "\n",
    "name = \"ram\" \n",
    "age = 34\n",
    "add = \"kathmandu\"\n",
    "info = f\"hello world {name}. I am {age} years old. i am from{add}\" # f is used for formating if not used it will print with{}\n",
    "print(info)    "
   ]
  },
  {
   "cell_type": "code",
   "execution_count": 31,
   "id": "8bc4ae5e",
   "metadata": {},
   "outputs": [
    {
     "name": "stdout",
     "output_type": "stream",
     "text": [
      "Enter Name = Ram \n",
      "yes, there is RAM \n",
      "1\n"
     ]
    }
   ],
   "source": [
    "# search in string ,,    .upper ()  and  .lower()    is used to cahnge word lower to higher and higher to lower \n",
    "\n",
    "a = \"ram shyam hari sita\".upper()\n",
    "name = input(\"Enter Name = \").upper()\n",
    "if name in a:\n",
    "    print(\"yes, there is\", name)\n",
    "    print(a.count(name)) # .count() to count the number of word \n",
    "    \n",
    "    \n",
    "else:\n",
    "    print(\"check again and put corret name \")"
   ]
  },
  {
   "cell_type": "code",
   "execution_count": 34,
   "id": "26cd6474",
   "metadata": {},
   "outputs": [
    {
     "name": "stdout",
     "output_type": "stream",
     "text": [
      "RAM shyam hari sita\n",
      "ram shyam  sita\n"
     ]
    }
   ],
   "source": [
    "a = \"ram shyam hari sita\"\n",
    "print(a.replace(\"ram\", \"RAM\"))   # to replace \n",
    "print(a.replace(\"hari\", \"\"))     # to remove "
   ]
  },
  {
   "cell_type": "code",
   "execution_count": null,
   "id": "ffc83385",
   "metadata": {},
   "outputs": [],
   "source": []
  }
 ],
 "metadata": {
  "kernelspec": {
   "display_name": "Python 3 (ipykernel)",
   "language": "python",
   "name": "python3"
  },
  "language_info": {
   "codemirror_mode": {
    "name": "ipython",
    "version": 3
   },
   "file_extension": ".py",
   "mimetype": "text/x-python",
   "name": "python",
   "nbconvert_exporter": "python",
   "pygments_lexer": "ipython3",
   "version": "3.11.5"
  }
 },
 "nbformat": 4,
 "nbformat_minor": 5
}
