{
 "cells": [
  {
   "cell_type": "code",
   "execution_count": null,
   "id": "8e6cbdc9",
   "metadata": {},
   "outputs": [],
   "source": [
    "import tkinter as tk\n",
    "from tkinter import messagebox\n",
    "\n",
    "def login():\n",
    "    username = entry_username.get()\n",
    "    password = entry_password.get()\n",
    "\n",
    "    # Replace this with your authentication logic\n",
    "    if username == \"student\" and password == \"password\":\n",
    "        messagebox.showinfo(\"Login Successful\", \"Welcome, {}\".format(username))\n",
    "    else:\n",
    "        messagebox.showerror(\"Login Failed\", \"Invalid username or password\")\n",
    "\n",
    "# Create the main window\n",
    "root = tk.Tk()\n",
    "root.title(\"Student Login\")\n",
    "\n",
    "# Create and place widgets\n",
    "label_username = tk.Label(root, text=\"Username:\")\n",
    "label_username.grid(row=0, column=0, padx=10, pady=10, sticky=tk.E)\n",
    "\n",
    "entry_username = tk.Entry(root)\n",
    "entry_username.grid(row=0, column=1, padx=10, pady=10)\n",
    "\n",
    "label_password = tk.Label(root, text=\"Password:\")\n",
    "label_password.grid(row=1, column=0, padx=10, pady=10, sticky=tk.E)\n",
    "\n",
    "entry_password = tk.Entry(root, show=\"*\")\n",
    "entry_password.grid(row=1, column=1, padx=10, pady=10)\n",
    "\n",
    "button_login = tk.Button(root, text=\"Login\", command=login)\n",
    "button_login.grid(row=2, column=1, pady=10)\n",
    "\n",
    "# Start the main loop\n",
    "root.mainloop()"
   ]
  },
  {
   "cell_type": "code",
   "execution_count": null,
   "id": "f09731f6",
   "metadata": {},
   "outputs": [],
   "source": []
  }
 ],
 "metadata": {
  "kernelspec": {
   "display_name": "Python 3 (ipykernel)",
   "language": "python",
   "name": "python3"
  },
  "language_info": {
   "codemirror_mode": {
    "name": "ipython",
    "version": 3
   },
   "file_extension": ".py",
   "mimetype": "text/x-python",
   "name": "python",
   "nbconvert_exporter": "python",
   "pygments_lexer": "ipython3",
   "version": "3.11.5"
  }
 },
 "nbformat": 4,
 "nbformat_minor": 5
}
