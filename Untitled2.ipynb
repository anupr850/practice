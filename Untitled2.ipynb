{
 "cells": [
  {
   "cell_type": "code",
   "execution_count": 3,
   "id": "a2c43fa6",
   "metadata": {},
   "outputs": [
    {
     "name": "stdout",
     "output_type": "stream",
     "text": [
      "enter your value for a = 11\n",
      "enter your value for b = 11\n",
      "your result is 22\n"
     ]
    }
   ],
   "source": [
    "a = int(input(\"enter your value for a = \"))\n",
    "b = int(input(\"enter your value for b = \"))\n",
    "c = a+b\n",
    "print(\"your result is = \", c)"
   ]
  },
  {
   "cell_type": "code",
   "execution_count": 4,
   "id": "a967148d",
   "metadata": {},
   "outputs": [
    {
     "name": "stdout",
     "output_type": "stream",
     "text": [
      "enter your P = 10\n",
      "enter your T = 3.5\n",
      "enter your R = 2\n",
      "your interest is =  0.7\n"
     ]
    }
   ],
   "source": [
    "p = int(input(\"enter your P = \"))\n",
    "t = float(input(\"enter your T = \"))\n",
    "r = float(input(\"enter your R = \"))\n",
    "i = p*t*r/100\n",
    "print(\"your interest is = \", i)"
   ]
  },
  {
   "cell_type": "code",
   "execution_count": 6,
   "id": "221218a5",
   "metadata": {},
   "outputs": [
    {
     "data": {
      "text/plain": [
       "10.0"
      ]
     },
     "execution_count": 6,
     "metadata": {},
     "output_type": "execute_result"
    }
   ],
   "source": [
    "a = 10\n",
    "float(a)"
   ]
  },
  {
   "cell_type": "code",
   "execution_count": 9,
   "id": "97c72c73",
   "metadata": {},
   "outputs": [
    {
     "data": {
      "text/plain": [
       "True"
      ]
     },
     "execution_count": 9,
     "metadata": {},
     "output_type": "execute_result"
    }
   ],
   "source": [
    "a = str(\"hello\")\n",
    "bool(a)"
   ]
  },
  {
   "cell_type": "code",
   "execution_count": 31,
   "id": "80b1d855",
   "metadata": {},
   "outputs": [
    {
     "name": "stdout",
     "output_type": "stream",
     "text": [
      "enter name ram\n",
      "enter age40\n",
      "enter address sitapur\n",
      "hello there, my name is ram ,my age is =40 and i am from = sitapur\n"
     ]
    }
   ],
   "source": [
    "name = input(\"enter name \")\n",
    "age = int(input(\"enter age\"))\n",
    "add = input(\"enter address \")\n",
    "info = \"hello there, my name is \" + name + \" ,my age is =\" + str(age)+  \" and i am from = \" + add\n",
    "print(info)"
   ]
  },
  {
   "cell_type": "code",
   "execution_count": null,
   "id": "6f0fd18b",
   "metadata": {},
   "outputs": [],
   "source": []
  },
  {
   "cell_type": "code",
   "execution_count": null,
   "id": "f74ed21d",
   "metadata": {},
   "outputs": [],
   "source": []
  }
 ],
 "metadata": {
  "kernelspec": {
   "display_name": "Python 3 (ipykernel)",
   "language": "python",
   "name": "python3"
  },
  "language_info": {
   "codemirror_mode": {
    "name": "ipython",
    "version": 3
   },
   "file_extension": ".py",
   "mimetype": "text/x-python",
   "name": "python",
   "nbconvert_exporter": "python",
   "pygments_lexer": "ipython3",
   "version": "3.11.5"
  }
 },
 "nbformat": 4,
 "nbformat_minor": 5
}
