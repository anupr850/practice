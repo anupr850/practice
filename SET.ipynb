{
 "cells": [
  {
   "cell_type": "code",
   "execution_count": null,
   "id": "06e8ebe7",
   "metadata": {},
   "outputs": [],
   "source": [
    "a = set()"
   ]
  },
  {
   "cell_type": "code",
   "execution_count": 2,
   "id": "813d839c",
   "metadata": {},
   "outputs": [
    {
     "name": "stdout",
     "output_type": "stream",
     "text": [
      "<class 'set'>\n"
     ]
    }
   ],
   "source": [
    "a = {\"Apple\",\"Ball\",\"Cat\",\"Fish\"}\n",
    "print(type(a))"
   ]
  },
  {
   "cell_type": "code",
   "execution_count": 3,
   "id": "d47f5fe2",
   "metadata": {},
   "outputs": [
    {
     "name": "stdout",
     "output_type": "stream",
     "text": [
      "Apple\n",
      "Ball\n",
      "Fish\n",
      "Cat\n"
     ]
    }
   ],
   "source": [
    "a = {\"Apple\",\"Ball\",\"Cat\",\"Fish\"}\n",
    "for i in a:\n",
    "    print(i)\n",
    "    "
   ]
  },
  {
   "cell_type": "code",
   "execution_count": 5,
   "id": "50cadaac",
   "metadata": {},
   "outputs": [
    {
     "name": "stdout",
     "output_type": "stream",
     "text": [
      "{'Apple', 'Ball', 'Fish'}\n"
     ]
    }
   ],
   "source": [
    "s = set()\n",
    "s.add(\"Apple\")\n",
    "s.add(\"Ball\")\n",
    "s.add(\"Fish\")\n",
    "print(s)"
   ]
  },
  {
   "cell_type": "code",
   "execution_count": 9,
   "id": "9391dda4",
   "metadata": {},
   "outputs": [
    {
     "name": "stdout",
     "output_type": "stream",
     "text": [
      "{1, 2, 3, 4, 5, 6, 7, 8, 4565645}\n"
     ]
    }
   ],
   "source": [
    "a = {1,2,3,4}\n",
    "a.update({3,4,5,6,7,8,4565645})\n",
    "print(a)"
   ]
  },
  {
   "cell_type": "code",
   "execution_count": 11,
   "id": "5128decb",
   "metadata": {},
   "outputs": [
    {
     "name": "stdout",
     "output_type": "stream",
     "text": [
      "{2, 3, 4}\n"
     ]
    }
   ],
   "source": [
    "a = {1,2,3,4}\n",
    "a.remove(1)\n",
    "print(a)"
   ]
  },
  {
   "cell_type": "code",
   "execution_count": 12,
   "id": "78b24d5d",
   "metadata": {},
   "outputs": [
    {
     "name": "stdout",
     "output_type": "stream",
     "text": [
      "[1, 2, 3, 4, 5.5, 6, 7, 8, 9]\n"
     ]
    }
   ],
   "source": [
    "a =[1,1,2,2,3,3,4,5.5,6,6,7,7,8,8,9]\n",
    "a = set(a)\n",
    "a = list(a)\n",
    "print(a)"
   ]
  },
  {
   "cell_type": "code",
   "execution_count": 26,
   "id": "13c1cc51",
   "metadata": {},
   "outputs": [
    {
     "name": "stdout",
     "output_type": "stream",
     "text": [
      "{2, 4}\n",
      "{1, 3, 5, 6, 7, 8, 9, 10}\n",
      "{1, 3, 5, 6, 7, 8, 9, 10}\n"
     ]
    }
   ],
   "source": [
    "# to see the common value \n",
    "U = {1,2,3,4,5,6,7,8,9,10}\n",
    "a = {1,3,5,7,9}\n",
    "b = {6,7,8,9,10}\n",
    "i = a.intersection(b)\n",
    "j = a.union(b)\n",
    "u = i.update(j)\n",
    "\n",
    "print(U - i)\n",
    "print(j)\n",
    "print(i)"
   ]
  },
  {
   "cell_type": "code",
   "execution_count": 33,
   "id": "6c2d7780",
   "metadata": {},
   "outputs": [
    {
     "name": "stdout",
     "output_type": "stream",
     "text": [
      "2\n",
      "5\n",
      "40.0\n"
     ]
    }
   ],
   "source": [
    "job ={\"Python\",\"django\",\"restapl\",\"ms\",\"transflow\"}\n",
    "profile = {\"Python\",\"django\",\"html\",\"css\"}\n",
    "\n",
    "len_skill = len(job.intersection(profile))\n",
    "print(len_skill)\n",
    "\n",
    "len_job_skill = len(job)\n",
    "print(len_job_skill)\n",
    "\n",
    "chance = len_skill/len_job_skill *100\n",
    "print(chance)"
   ]
  },
  {
   "cell_type": "code",
   "execution_count": null,
   "id": "bff901fc",
   "metadata": {},
   "outputs": [],
   "source": []
  }
 ],
 "metadata": {
  "kernelspec": {
   "display_name": "Python 3 (ipykernel)",
   "language": "python",
   "name": "python3"
  },
  "language_info": {
   "codemirror_mode": {
    "name": "ipython",
    "version": 3
   },
   "file_extension": ".py",
   "mimetype": "text/x-python",
   "name": "python",
   "nbconvert_exporter": "python",
   "pygments_lexer": "ipython3",
   "version": "3.11.5"
  }
 },
 "nbformat": 4,
 "nbformat_minor": 5
}
