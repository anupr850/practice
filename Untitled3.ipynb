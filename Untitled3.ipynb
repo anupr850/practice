{
 "cells": [
  {
   "cell_type": "code",
   "execution_count": 4,
   "id": "70ecdfbb",
   "metadata": {},
   "outputs": [
    {
     "name": "stdout",
     "output_type": "stream",
     "text": [
      "Enter n = 3\n",
      "Enter name = raj\n",
      "Enter phone = 9869319391\n",
      "Enter name = avash\n",
      "Enter phone = \n",
      "Enter name = \n",
      "Enter phone = \n",
      "raj9869319391\n",
      "avash\n",
      "\n",
      "\n"
     ]
    }
   ],
   "source": [
    "#strp\n",
    "s =\"\"\n",
    "n =int(input(\"Enter n = \"))\n",
    "for i in range(n):\n",
    "    name = input(\"Enter name = \")\n",
    "    phone = input(\"Enter phone = \")\n",
    "    s = s + name + \"\" + phone + \"\\n\"\n",
    "print(s)"
   ]
  },
  {
   "cell_type": "code",
   "execution_count": 12,
   "id": "f164df27",
   "metadata": {},
   "outputs": [
    {
     "name": "stdout",
     "output_type": "stream",
     "text": [
      "Enter no. = 1\n",
      "Enter Name =aavas\n",
      "Enter Price = 300\n",
      "Enter Quantity = 40\n",
      "aavas 300.0 40.0 12000.0\n",
      "\n"
     ]
    }
   ],
   "source": [
    "s = str()\n",
    "all_total = 0\n",
    "n = int(input(\"Enter no. = \"))\n",
    "for i in range(n):\n",
    "    name = input(\"Enter Name =\")\n",
    "    price = float(input(\"Enter Price = \"))\n",
    "    quantity = float(input(\"Enter Quantity = \"))\n",
    "    total = price * quantity \n",
    "    s = s + name + \" \" + str(price) + \" \" + str(quantity) + \" \" + str(total) + \"\\n\"\n",
    "    all_total = all_total + total \n",
    "print(s)\n",
    "     "
   ]
  },
  {
   "cell_type": "code",
   "execution_count": 16,
   "id": "8b5e6913",
   "metadata": {},
   "outputs": [
    {
     "name": "stdout",
     "output_type": "stream",
     "text": [
      "Enter no. = 9\n",
      "362880\n"
     ]
    }
   ],
   "source": [
    "s = 1 # for factorial its start with 1 \n",
    "n = int(input(\"Enter no. = \"))\n",
    "for i in range(1, n+1):\n",
    "    s = s * i\n",
    "print(s)"
   ]
  },
  {
   "cell_type": "code",
   "execution_count": 18,
   "id": "6752018b",
   "metadata": {},
   "outputs": [
    {
     "name": "stdout",
     "output_type": "stream",
     "text": [
      "\n",
      "*\n",
      "**\n",
      "***\n",
      "****\n"
     ]
    }
   ],
   "source": [
    "a = 5\n",
    "for i in range(5):\n",
    "    print(i * \"*\")"
   ]
  },
  {
   "cell_type": "code",
   "execution_count": 19,
   "id": "7b71799c",
   "metadata": {},
   "outputs": [
    {
     "ename": "SyntaxError",
     "evalue": "invalid syntax (1598606957.py, line 2)",
     "output_type": "error",
     "traceback": [
      "\u001b[1;36m  Cell \u001b[1;32mIn[19], line 2\u001b[1;36m\u001b[0m\n\u001b[1;33m    for in range (1,n):\u001b[0m\n\u001b[1;37m        ^\u001b[0m\n\u001b[1;31mSyntaxError\u001b[0m\u001b[1;31m:\u001b[0m invalid syntax\n"
     ]
    }
   ],
   "source": [
    "n = 10\n",
    "for in range (1,n):\n",
    "    print(n-1) * \" \" *"
   ]
  },
  {
   "cell_type": "code",
   "execution_count": 20,
   "id": "5348545f",
   "metadata": {},
   "outputs": [
    {
     "name": "stdout",
     "output_type": "stream",
     "text": [
      "helloworld"
     ]
    }
   ],
   "source": [
    "# loop in string \n",
    "a= \"hello world\"     # for word no need to use range but for number range shouold be used\n",
    "for i in a:     \n",
    "    if i != \" \":\n",
    "        print(i, end = \"\")"
   ]
  },
  {
   "cell_type": "code",
   "execution_count": 21,
   "id": "3fde44fc",
   "metadata": {},
   "outputs": [
    {
     "name": "stdout",
     "output_type": "stream",
     "text": [
      "1\n",
      "3\n",
      "5\n",
      "7\n",
      "9\n",
      "11\n",
      "13\n",
      "15\n",
      "17\n",
      "19\n"
     ]
    }
   ],
   "source": [
    "for i in range(0,21):     #  for use of number range should be used \n",
    "    if i%2 != 0:          # != is not equals to sign ,    \n",
    "        print(i)"
   ]
  },
  {
   "cell_type": "code",
   "execution_count": null,
   "id": "bcd934ca",
   "metadata": {},
   "outputs": [],
   "source": []
  }
 ],
 "metadata": {
  "kernelspec": {
   "display_name": "Python 3 (ipykernel)",
   "language": "python",
   "name": "python3"
  },
  "language_info": {
   "codemirror_mode": {
    "name": "ipython",
    "version": 3
   },
   "file_extension": ".py",
   "mimetype": "text/x-python",
   "name": "python",
   "nbconvert_exporter": "python",
   "pygments_lexer": "ipython3",
   "version": "3.11.5"
  }
 },
 "nbformat": 4,
 "nbformat_minor": 5
}
