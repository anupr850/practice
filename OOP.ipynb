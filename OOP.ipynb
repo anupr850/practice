{
 "cells": [
  {
   "cell_type": "code",
   "execution_count": 4,
   "id": "0219ab6f",
   "metadata": {},
   "outputs": [
    {
     "name": "stdout",
     "output_type": "stream",
     "text": [
      "Hello world\n"
     ]
    }
   ],
   "source": [
    "class hello:                      #class\n",
    "    @staticmethod\n",
    "    def hello():                  #method\n",
    "        print(\"Hello world\")\n",
    "        \n",
    "obj = hello()                     #object\n",
    "obj.hello()"
   ]
  },
  {
   "cell_type": "code",
   "execution_count": 6,
   "id": "02d630f2",
   "metadata": {},
   "outputs": [
    {
     "name": "stdout",
     "output_type": "stream",
     "text": [
      "Hello world\n"
     ]
    }
   ],
   "source": [
    "class hello:       \n",
    "    def hello(self):                  #method\n",
    "        print(\"Hello world\")\n",
    "        \n",
    "obj = hello()                     #object\n",
    "obj.hello()"
   ]
  },
  {
   "cell_type": "code",
   "execution_count": 7,
   "id": "52ceaebd",
   "metadata": {},
   "outputs": [
    {
     "name": "stdout",
     "output_type": "stream",
     "text": [
      "32\n"
     ]
    }
   ],
   "source": [
    "class Cal:                      #class\n",
    "    @staticmethod\n",
    "    def area(l,b):                  #method\n",
    "        print(l*b)\n",
    "        \n",
    "obj = Cal()                     #object\n",
    "obj.area(4,8)"
   ]
  },
  {
   "cell_type": "code",
   "execution_count": 22,
   "id": "8ef3141a",
   "metadata": {},
   "outputs": [
    {
     "name": "stdout",
     "output_type": "stream",
     "text": [
      "18\n",
      "162\n"
     ]
    }
   ],
   "source": [
    "class Cal:                      #class\n",
    "    def __init__ (self,l,b,h):\n",
    "        self.l = l\n",
    "        self.b = b\n",
    "        self.h = h\n",
    "        \n",
    "    def area(self):                  #method\n",
    "        print(self.l*self.b)\n",
    "        \n",
    "    def volume(self):\n",
    "        print(self.l*self.b*self.h)\n",
    "        \n",
    "obj = Cal(3,6,9)                   #object\n",
    "obj.area()\n",
    "obj.volume()"
   ]
  },
  {
   "cell_type": "code",
   "execution_count": 25,
   "id": "3e09e00a",
   "metadata": {},
   "outputs": [
    {
     "name": "stdout",
     "output_type": "stream",
     "text": [
      "18\n",
      "162\n"
     ]
    }
   ],
   "source": [
    "class Cal:                      #class\n",
    "    def __init__ (self,l,b):\n",
    "        self.l = l\n",
    "        self.b = b\n",
    "        \n",
    "        \n",
    "    def area(self):                  #method\n",
    "        print(self.l*self.b)\n",
    "        \n",
    "    def volume(self,h):\n",
    "        print(self.l*self.b*h)\n",
    "        \n",
    "obj = Cal(3,6)                   #object\n",
    "obj.area()\n",
    "obj.volume(9)"
   ]
  },
  {
   "cell_type": "code",
   "execution_count": 45,
   "id": "f753d609",
   "metadata": {},
   "outputs": [
    {
     "name": "stdout",
     "output_type": "stream",
     "text": [
      "Enter Name = ram\n",
      "ENter Age = 34\n",
      "Enter add = kathmandu\n",
      "HEllo i amram. I am from kathmandu. I am 34.0 yers old\n",
      "kathmandu\n"
     ]
    }
   ],
   "source": [
    "class Info:\n",
    "    def __init__(self,name,age):\n",
    "        self.name = name\n",
    "        self.age = age\n",
    "        self.add = input(\"Enter add = \")\n",
    "        \n",
    "    def info(self):\n",
    "        print(f\"HEllo i am {self.name}. I am from {self.add}. I am {self.age} years old\")\n",
    "        \n",
    "           \n",
    "name = input(\"Enter Name = \")\n",
    "age = float(input(\"ENter Age = \"))\n",
    "\n",
    "\n",
    " \n",
    "obj = Info(name,age)\n",
    "obj.info()\n",
    "print(obj.add)"
   ]
  },
  {
   "cell_type": "code",
   "execution_count": 3,
   "id": "1c46db95",
   "metadata": {},
   "outputs": [
    {
     "name": "stdout",
     "output_type": "stream",
     "text": [
      "Enter Name = ram\n",
      "ENter Age = 34\n",
      "Enter add = kathmandu\n",
      "HEllo i am ram. I am from kathmandu. I am 34.0 years old\n",
      "ram\n"
     ]
    }
   ],
   "source": [
    "class Info:\n",
    "    def __init__(self):\n",
    "        self.name = input(\"Enter Name = \")\n",
    "        self.age = float(input(\"ENter Age = \"))\n",
    "        self.add = input(\"Enter add = \")\n",
    "        \n",
    "    def __str__ (self):\n",
    "        return self.name\n",
    "        \n",
    "    def info(self):\n",
    "        print(f\"HEllo i am {self.name}. I am from {self.add}. I am {self.age} years old\")\n",
    "        \n",
    "            \n",
    "obj = Info()\n",
    "obj.info()\n",
    "print(obj)"
   ]
  },
  {
   "cell_type": "code",
   "execution_count": 4,
   "id": "250a62bc",
   "metadata": {},
   "outputs": [
    {
     "name": "stdout",
     "output_type": "stream",
     "text": [
      "Enter Name = ram\n",
      "ENter Age = 34\n",
      "Enter add = kathmandu\n",
      "HEllo i am ram. I am from kathmandu. I am 34.0 years old\n",
      "ram\n",
      "ram\n",
      "ramShyam\n"
     ]
    }
   ],
   "source": [
    "class Info:\n",
    "    def __init__(self):\n",
    "        self.name = input(\"Enter Name = \")\n",
    "        self.age = float(input(\"ENter Age = \"))\n",
    "        self.add = input(\"Enter add = \")\n",
    "        \n",
    "    def __str__ (self):\n",
    "        return self.name\n",
    "        \n",
    "        \n",
    "    def info(self):\n",
    "        print(f\"HEllo i am {self.name}. I am from {self.add}. I am {self.age} years old\")\n",
    "        \n",
    "            \n",
    "obj = Info()\n",
    "obj.info()\n",
    "print(obj)\n",
    "print(obj.__str__())\n",
    "print(str(obj) + \"Shyam\" )"
   ]
  },
  {
   "cell_type": "code",
   "execution_count": null,
   "id": "bf56af38",
   "metadata": {},
   "outputs": [],
   "source": []
  }
 ],
 "metadata": {
  "kernelspec": {
   "display_name": "Python 3 (ipykernel)",
   "language": "python",
   "name": "python3"
  },
  "language_info": {
   "codemirror_mode": {
    "name": "ipython",
    "version": 3
   },
   "file_extension": ".py",
   "mimetype": "text/x-python",
   "name": "python",
   "nbconvert_exporter": "python",
   "pygments_lexer": "ipython3",
   "version": "3.11.5"
  }
 },
 "nbformat": 4,
 "nbformat_minor": 5
}
