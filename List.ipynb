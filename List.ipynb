{
 "cells": [
  {
   "cell_type": "code",
   "execution_count": 3,
   "id": "6c53de6d",
   "metadata": {},
   "outputs": [
    {
     "name": "stdout",
     "output_type": "stream",
     "text": [
      "Apple\n",
      "[1, 4, 7]\n",
      "<class 'list'>\n",
      "<class 'list'>\n"
     ]
    }
   ],
   "source": [
    "a = [1,2,3,4,5,6,7,8,9,0 ]\n",
    "b = [\"Apple\", \"Ball\", \"Cat\", \"Dog\", \"Fish\"]\n",
    "\n",
    "print(b[0])\n",
    "\n",
    "print(a[0:9:3])\n",
    "\n",
    "print(type(a))\n",
    "\n",
    "print(type(b))\n",
    "\n",
    "\n"
   ]
  },
  {
   "cell_type": "code",
   "execution_count": 6,
   "id": "23af63cb",
   "metadata": {},
   "outputs": [
    {
     "name": "stdout",
     "output_type": "stream",
     "text": [
      "[1, 2, 3, 4, 5, 6, 7, 8, 9]\n"
     ]
    }
   ],
   "source": [
    "a =[1,2,3,4,5]\n",
    "b =[6,7,8,9]\n",
    "c =(a+b)\n",
    "print(c)"
   ]
  },
  {
   "cell_type": "code",
   "execution_count": 10,
   "id": "c6477b60",
   "metadata": {},
   "outputs": [
    {
     "name": "stdout",
     "output_type": "stream",
     "text": [
      "Apple\n",
      "Ball\n",
      "Cat\n",
      "Dog\n",
      "Fish\n"
     ]
    }
   ],
   "source": [
    "b = [\"Apple\", \"Ball\", \"Cat\", \"Dog\", \"Fish\"]\n",
    "for i in  b:\n",
    "    print(i)"
   ]
  },
  {
   "cell_type": "code",
   "execution_count": 18,
   "id": "9e001da7",
   "metadata": {},
   "outputs": [
    {
     "name": "stdout",
     "output_type": "stream",
     "text": [
      "Enter the value of n =4\n",
      "Enter the value for x =22\n",
      "[22]\n",
      "Enter the value for x =44\n",
      "[22, 44]\n",
      "Enter the value for x =55\n",
      "[22, 44, 55]\n",
      "Enter the value for x =77\n",
      "[22, 44, 55, 77]\n",
      "the max value = 77\n",
      "the min value = 22\n",
      "the sum of the value = 198\n"
     ]
    }
   ],
   "source": [
    "#append\n",
    "\n",
    "a = []\n",
    "n = int(input(\"Enter the value of n =\"))\n",
    "for i in range(n):\n",
    "    x = int(input(\"Enter the value for x =\"))\n",
    "    a.append(x)\n",
    "    \n",
    "    print(a)\n",
    "print(\"the max value =\",max(a))\n",
    "print(\"the min value =\", min(a))\n",
    "print(\"the sum of the value =\", sum(a))\n"
   ]
  },
  {
   "cell_type": "code",
   "execution_count": 21,
   "id": "506fc152",
   "metadata": {},
   "outputs": [
    {
     "name": "stdout",
     "output_type": "stream",
     "text": [
      "Enter the value of n =2\n",
      "Enter the value for x =22\n",
      "Enter the value for x =33\n",
      "the max value = 33\n",
      "the min value = 22\n",
      "the sum of the value = 55\n",
      "[22, 33]\n",
      "[33, 22]\n"
     ]
    }
   ],
   "source": [
    "a = []\n",
    "n = int(input(\"Enter the value of n =\"))\n",
    "for i in range(n):\n",
    "    x = int(input(\"Enter the value for x =\"))\n",
    "    a.append(x)\n",
    "print(\"the max value =\",max(a))\n",
    "print(\"the min value =\", min(a))\n",
    "print(\"the sum of the value =\", sum(a))\n",
    "a.sort()\n",
    "print(a)\n",
    "a.reverse()\n",
    "print(a)"
   ]
  },
  {
   "cell_type": "code",
   "execution_count": 22,
   "id": "bc0ed8b1",
   "metadata": {},
   "outputs": [
    {
     "name": "stdout",
     "output_type": "stream",
     "text": [
      "['Apple', 'Ball', 'Cat', 'tiger', 'Dog', 'Fish']\n"
     ]
    }
   ],
   "source": [
    "b = [\"Apple\", \"Ball\", \"Cat\", \"Dog\", \"Fish\"]\n",
    "b.insert(3,\"tiger\")\n",
    "print(b)"
   ]
  },
  {
   "cell_type": "code",
   "execution_count": 23,
   "id": "5e706c16",
   "metadata": {},
   "outputs": [
    {
     "name": "stdout",
     "output_type": "stream",
     "text": [
      "['Apple', 'Ball', 'Cat', 'Dog', 'Fish', 1, 2, 3, 4, 5]\n",
      "[1, 2, 3, 4, 5, 'Apple', 'Ball', 'Cat', 'Dog', 'Fish', 1, 2, 3, 4, 5]\n"
     ]
    }
   ],
   "source": [
    "b = [\"Apple\", \"Ball\", \"Cat\", \"Dog\", \"Fish\"]\n",
    "a =[1,2,3,4,5]\n",
    "b.extend(a)\n",
    "a.extend(b)\n",
    "print(b)\n",
    "print(a)"
   ]
  },
  {
   "cell_type": "code",
   "execution_count": 28,
   "id": "82e8e2dc",
   "metadata": {},
   "outputs": [
    {
     "name": "stdout",
     "output_type": "stream",
     "text": [
      "['tiger', 'lion', 'liger', 'Apple', 'Ball', 'Cat', 'Dog', 'Fish,']\n"
     ]
    }
   ],
   "source": [
    "b = [\"Apple\", \"Ball\", \"Cat\", \"Dog\", \"Fish,\"]\n",
    "b[0:0] = [\"tiger\"]\n",
    "b[1:1] = [\"lion\", \"liger\"]\n",
    "print(b)"
   ]
  },
  {
   "cell_type": "code",
   "execution_count": 29,
   "id": "d3a3d0cb",
   "metadata": {},
   "outputs": [
    {
     "name": "stdout",
     "output_type": "stream",
     "text": [
      "['Ball', 'Cat', 'Dog', 'Fish']\n"
     ]
    }
   ],
   "source": [
    "# removing value from list \n",
    "\n",
    "#  1>del 2>remove() 3>pop()\n",
    "\n",
    "b = [\"Apple\", \"Ball\", \"Cat\", \"Dog\", \"Fish\", \"tiger\", \"lion\", \"liger\"]\n",
    "del b[0]\n",
    "print(b)"
   ]
  },
  {
   "cell_type": "code",
   "execution_count": 34,
   "id": "8a305198",
   "metadata": {},
   "outputs": [
    {
     "name": "stdout",
     "output_type": "stream",
     "text": [
      "0\n"
     ]
    }
   ],
   "source": [
    "#to find index\n",
    "b = [\"Apple\", \"Ball\", \"Cat\", \"Dog\", \"Fish\", \"tiger\", \"lion\", \"liger\"]\n",
    "print(b.index(\"Apple\"))"
   ]
  },
  {
   "cell_type": "code",
   "execution_count": 41,
   "id": "0e8bf734",
   "metadata": {},
   "outputs": [
    {
     "name": "stdout",
     "output_type": "stream",
     "text": [
      "Enter search value =tiger\n",
      "5\n",
      "7\n"
     ]
    }
   ],
   "source": [
    "b = [\"Apple\", \"Ball\", \"Cat\", \"Dog\", \"Fish\", \"tiger\", \"lion\", \"tiger\"]\n",
    "l = len(b)\n",
    "search =input(\"Enter search value =\")\n",
    "for i in range(l):\n",
    "    if b[i] == search:\n",
    "        print(i)\n",
    "    \n",
    "    \n",
    "    "
   ]
  },
  {
   "cell_type": "code",
   "execution_count": 48,
   "id": "8bf3e517",
   "metadata": {},
   "outputs": [
    {
     "name": "stdout",
     "output_type": "stream",
     "text": [
      "Enter the search value =tiger\n",
      "['Apple', 'Ball', 'Cat', 'Dog', 'Fish', 'tiger', 'lion', 'tiger']\n"
     ]
    }
   ],
   "source": [
    "b = [\"Apple\", \"Ball\", \"Cat\", \"Dog\", \"Fish\", \"tiger\", \"lion\", \"tiger\"]\n",
    "c = b.count(b)\n",
    "search = input(\"Enter the search value =\")\n",
    "for i in range(c):\n",
    "    b.remove(search)\n",
    "print(b)"
   ]
  },
  {
   "cell_type": "code",
   "execution_count": 9,
   "id": "398cc8cb",
   "metadata": {},
   "outputs": [
    {
     "name": "stdout",
     "output_type": "stream",
     "text": [
      "Enter for yout search = cat\n"
     ]
    }
   ],
   "source": [
    "a = [\"Apple\", \"Ball\", \"Cat\", \"Dog\", \"Fish\", \"tiger\", \"lion\", \"tiger\"]\n",
    "search = input(\"Enter for yout search = \")\n",
    "if search in a:\n",
    "    print(\"yes,result found\")\n",
    "    print(a.count(search))"
   ]
  },
  {
   "cell_type": "code",
   "execution_count": 14,
   "id": "a71b008e",
   "metadata": {},
   "outputs": [
    {
     "name": "stdout",
     "output_type": "stream",
     "text": [
      "ENter your search value = lion \n",
      "Result not found\n"
     ]
    }
   ],
   "source": [
    "c = 0\n",
    "a = [\"Apple\", \"Ball\", \"Cat\", \"Dog\", \"Fish\", \"tiger\", \"lion\", \"tiger\"]\n",
    "search = input (\"ENter your search value = \")\n",
    "for i in range (len(a)):\n",
    "    if search.lower() == a[i].lower():\n",
    "        c += i\n",
    "\n",
    "if  c>0:\n",
    "    print(\"yes, result found\")\n",
    "else:\n",
    "    print(\"Result not found\")\n",
    "    \n"
   ]
  },
  {
   "cell_type": "code",
   "execution_count": null,
   "id": "3495378d",
   "metadata": {},
   "outputs": [],
   "source": [
    "info = [[\"Ram\",34,\"kathmandu\"]\n",
    "        [\"shyam\",45,\"bhaktapur\"]\n",
    "        [\"hari\",30,\"lalitpur\"]]\n"
   ]
  },
  {
   "cell_type": "code",
   "execution_count": 22,
   "id": "a436b6ab",
   "metadata": {},
   "outputs": [
    {
     "name": "stdout",
     "output_type": "stream",
     "text": [
      "Enter the value of n = 3\n",
      "Enter Name = ram \n",
      "Enter Age = 34\n",
      "Enter address = ahyoda\n",
      "Enter Name = krishna \n",
      "Enter Age = 76\n",
      "Enter address = brindaban\n",
      "Enter Name = hanuman \n",
      "Enter Age = 10000000\n",
      "Enter address = kailash \n",
      "['hanuman ', 10000000.0, 'kailash ']\n",
      "2\n"
     ]
    }
   ],
   "source": [
    "info = []\n",
    "n = int(input(\"Enter the value of n = \"))\n",
    "for i in range(n):\n",
    "    name= input(\"Enter Name = \")\n",
    "    age = float(input(\"Enter Age = \"))\n",
    "    add = input(\"Enter address = \")\n",
    "    x = [name,age,add]\n",
    "    info.append(x)\n",
    "    \n",
    "print(x)\n",
    "print(i)"
   ]
  },
  {
   "cell_type": "code",
   "execution_count": 20,
   "id": "53b8a0c6",
   "metadata": {},
   "outputs": [
    {
     "data": {
      "text/plain": [
       "3"
      ]
     },
     "execution_count": 20,
     "metadata": {},
     "output_type": "execute_result"
    }
   ],
   "source": [
    "len(info)"
   ]
  },
  {
   "cell_type": "code",
   "execution_count": 38,
   "id": "2296daa0",
   "metadata": {},
   "outputs": [
    {
     "name": "stdout",
     "output_type": "stream",
     "text": [
      "Enter age =100\n",
      "Enter Name = hanuman \n",
      "Resut not found\n",
      "Resut not found\n",
      "['hanuman ', 10000000.0, 'kailash ']\n"
     ]
    }
   ],
   "source": [
    "age = int(input(\"Enter age =\"))\n",
    "name = input(\"Enter Name = \")\n",
    "for i in info:\n",
    "    if i[1]>= age:\n",
    "        print(i)\n",
    "        \n",
    "    elif name.upper() == i[0].upper:\n",
    "        print(i)\n",
    "           \n",
    "    else:\n",
    "        print(\"Resut not found\")"
   ]
  },
  {
   "cell_type": "code",
   "execution_count": null,
   "id": "0f27eb53",
   "metadata": {},
   "outputs": [],
   "source": [
    "info = [[\"Ram\",34,\"kathmandu\"],\n",
    "        [\"shyam\",45,\"bhaktapur\"],\n",
    "        [\"hari\",30,\"lalitpur\"]]"
   ]
  },
  {
   "cell_type": "code",
   "execution_count": 53,
   "id": "29595f7a",
   "metadata": {},
   "outputs": [
    {
     "name": "stdout",
     "output_type": "stream",
     "text": [
      "Enter Name = Ram\n"
     ]
    }
   ],
   "source": [
    "name = input(\"Enter Name = \")\n",
    "for i in info:\n",
    "    if name in i:\n",
    "        info.remove(i)"
   ]
  },
  {
   "cell_type": "code",
   "execution_count": 50,
   "id": "96dae580",
   "metadata": {},
   "outputs": [
    {
     "data": {
      "text/plain": [
       "[]"
      ]
     },
     "execution_count": 50,
     "metadata": {},
     "output_type": "execute_result"
    }
   ],
   "source": [
    "\n"
   ]
  },
  {
   "cell_type": "code",
   "execution_count": null,
   "id": "26260b70",
   "metadata": {},
   "outputs": [],
   "source": []
  }
 ],
 "metadata": {
  "kernelspec": {
   "display_name": "Python 3 (ipykernel)",
   "language": "python",
   "name": "python3"
  },
  "language_info": {
   "codemirror_mode": {
    "name": "ipython",
    "version": 3
   },
   "file_extension": ".py",
   "mimetype": "text/x-python",
   "name": "python",
   "nbconvert_exporter": "python",
   "pygments_lexer": "ipython3",
   "version": "3.11.5"
  }
 },
 "nbformat": 4,
 "nbformat_minor": 5
}
