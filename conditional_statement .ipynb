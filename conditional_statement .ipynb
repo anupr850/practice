{
 "cells": [
  {
   "cell_type": "markdown",
   "id": "a937a260",
   "metadata": {},
   "source": [
    "a = float(input(\"Marks of Physics =\"))\n",
    "b = float(input(\"Marks of Chemistry= \"))\n",
    "c = float(input(\"Marks of Math =\"))\n",
    "d = float(input(\"Marks of English =\"))\n",
    "e = float(input(\"Marks of Nepali =\"))\n",
    "if a >=35 and b >=35 and c >=35 and d >=35 and e >=35:\n",
    "    total = a+b+c+d+e\n",
    "    per = total/5\n",
    "\n",
    "    if per >=80 or per == 80:\n",
    "        grade = \"A\"\n",
    "    elif per >=60 or per == 60:\n",
    "        grade = \"B\"\n",
    "    elif per >=45 or per == 45:\n",
    "        grade = \"C\"\n",
    "    else:\n",
    "        grade = \"F\"\n",
    "\n",
    "    print(\"Total Marks is \", total)\n",
    "    print(\"Percentage\", per)\n",
    "    print(\"grade\", grade)\n",
    "    \n",
    "else:\n",
    "    print(\"grade = F\")\n"
   ]
  },
  {
   "cell_type": "code",
   "execution_count": null,
   "id": "038479d0",
   "metadata": {},
   "outputs": [],
   "source": [
    "# looop\n",
    "# for loop \n",
    "# range (5) - 0,1,2,3,4\n",
    "# range(1,5) - 1,2,3,4,5\n",
    "# range(1,10,2) - 1,3,5,7,9 - in this case from 1-10 thats 1-9 here = every number is add by 2 and the result is form \n",
    "# range(1,10,2) - 1,3,5,7,9 \n",
    "\n",
    "\n",
    "# while loop\n"
   ]
  },
  {
   "cell_type": "code",
   "execution_count": 22,
   "id": "217f6442",
   "metadata": {},
   "outputs": [
    {
     "name": "stdout",
     "output_type": "stream",
     "text": [
      "1 whats up\n",
      "6 whats up\n"
     ]
    }
   ],
   "source": [
    "for i in range(1,10,5):\n",
    "    print(i,\"whats up\")"
   ]
  },
  {
   "cell_type": "code",
   "execution_count": 31,
   "id": "3e93e5e9",
   "metadata": {},
   "outputs": [
    {
     "name": "stdout",
     "output_type": "stream",
     "text": [
      "5 lets go to minus\n",
      "4 lets go to minus\n",
      "3 lets go to minus\n",
      "2 lets go to minus\n",
      "1 lets go to minus\n",
      "0 lets go to minus\n",
      "-1 lets go to minus\n",
      "-2 lets go to minus\n",
      "-3 lets go to minus\n",
      "-4 lets go to minus\n",
      "-5 lets go to minus\n",
      "-6 lets go to minus\n",
      "-7 lets go to minus\n",
      "-8 lets go to minus\n",
      "-9 lets go to minus\n"
     ]
    }
   ],
   "source": [
    "for i in range (5,-10,-1):\n",
    "    print(i,\"lets go to minus\")"
   ]
  },
  {
   "cell_type": "code",
   "execution_count": 32,
   "id": "0a339ef8",
   "metadata": {},
   "outputs": [
    {
     "name": "stdout",
     "output_type": "stream",
     "text": [
      "Enter the value of a =2\n",
      "3\n",
      "4\n",
      "5\n",
      "6\n",
      "7\n",
      "8\n",
      "9\n",
      "10\n",
      "11\n",
      "12\n"
     ]
    }
   ],
   "source": [
    "a = int(input(\"Enter the value of a =\"))\n",
    "for i in range(1,11):\n",
    "    print(a+i)"
   ]
  },
  {
   "cell_type": "code",
   "execution_count": 36,
   "id": "0b2da3f1",
   "metadata": {},
   "outputs": [
    {
     "name": "stdout",
     "output_type": "stream",
     "text": [
      "Enter the value of a =345\n",
      "345 * 1 = 345\n",
      "345 * 2 = 690\n",
      "345 * 3 = 1035\n",
      "345 * 4 = 1380\n",
      "345 * 5 = 1725\n",
      "345 * 6 = 2070\n",
      "345 * 7 = 2415\n",
      "345 * 8 = 2760\n",
      "345 * 9 = 3105\n",
      "345 * 10 = 3450\n"
     ]
    }
   ],
   "source": [
    "a = int(input(\"Enter the value of a =\"))\n",
    "for i in range(1,11):\n",
    "    print(a,\"*\",i,\"=\",a*i)"
   ]
  },
  {
   "cell_type": "code",
   "execution_count": 38,
   "id": "a6244234",
   "metadata": {},
   "outputs": [
    {
     "name": "stdout",
     "output_type": "stream",
     "text": [
      "Enter the value of a4\n",
      "Enter the value of a4\n"
     ]
    }
   ],
   "source": [
    "for i in range(2):\n",
    "    a = int(input(\"Enter the value of a = \"))"
   ]
  },
  {
   "cell_type": "code",
   "execution_count": 50,
   "id": "6959e85c",
   "metadata": {},
   "outputs": [
    {
     "name": "stdout",
     "output_type": "stream",
     "text": [
      "Enter the value of a = 34\n",
      "34\n",
      "Enter the value of a = 34\n",
      "68\n",
      "Enter the value of a = 34\n",
      "102\n",
      "Enter the value of a = 34\n",
      "136\n",
      "Enter the value of a = 34\n",
      "170\n",
      "Enter the value of a = 34\n",
      "204\n"
     ]
    }
   ],
   "source": [
    "s = 0 \n",
    "for i in range(6):\n",
    "    a = int(input(\"Enter the value of a = \"))\n",
    "    s = s + a \n",
    "    print(s)"
   ]
  },
  {
   "cell_type": "markdown",
   "id": "bccb6f15",
   "metadata": {},
   "source": []
  },
  {
   "cell_type": "code",
   "execution_count": 2,
   "id": "821a29ab",
   "metadata": {},
   "outputs": [
    {
     "data": {
      "text/plain": [
       "'C:\\\\Users\\\\ACER\\\\Desktop\\\\for_Python.py'"
      ]
     },
     "execution_count": 2,
     "metadata": {},
     "output_type": "execute_result"
    }
   ],
   "source": [
    "pwd"
   ]
  },
  {
   "cell_type": "code",
   "execution_count": null,
   "id": "61ea16e0",
   "metadata": {},
   "outputs": [],
   "source": []
  }
 ],
 "metadata": {
  "kernelspec": {
   "display_name": "Python 3 (ipykernel)",
   "language": "python",
   "name": "python3"
  },
  "language_info": {
   "codemirror_mode": {
    "name": "ipython",
    "version": 3
   },
   "file_extension": ".py",
   "mimetype": "text/x-python",
   "name": "python",
   "nbconvert_exporter": "python",
   "pygments_lexer": "ipython3",
   "version": "3.11.5"
  }
 },
 "nbformat": 4,
 "nbformat_minor": 5
}
