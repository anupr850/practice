{
 "cells": [
  {
   "cell_type": "code",
   "execution_count": null,
   "id": "f514e435",
   "metadata": {},
   "outputs": [],
   "source": [
    "# if <condition>:\n",
    "#     <operation>\n",
    "# elif <condition>:\n",
    "#     <operation>\n",
    "\n",
    "    \n",
    "# else:\n",
    "#     <operation>\n"
   ]
  },
  {
   "cell_type": "code",
   "execution_count": 4,
   "id": "f2d56ed3",
   "metadata": {},
   "outputs": [
    {
     "name": "stdout",
     "output_type": "stream",
     "text": [
      "Enter the value of a =0\n",
      "The value is +ve\n"
     ]
    }
   ],
   "source": [
    "a = int(input(\"Enter the value of a =\"))\n",
    "if a >= 0:\n",
    "    print(\"The value is +ve\")\n",
    "else:\n",
    "    print(\"The value is -ve\")\n",
    "    "
   ]
  },
  {
   "cell_type": "code",
   "execution_count": 7,
   "id": "d17b63c5",
   "metadata": {},
   "outputs": [
    {
     "name": "stdout",
     "output_type": "stream",
     "text": [
      "Enter the value of a =1\n",
      "1 is odd\n"
     ]
    }
   ],
   "source": [
    "a = int(input(\"Enter the value of a =\"))\n",
    "if a%2==0:\n",
    "    print(a,\"is even\")\n",
    "else:\n",
    "    print(a,\"is odd\")"
   ]
  },
  {
   "cell_type": "code",
   "execution_count": 9,
   "id": "2387cde3",
   "metadata": {},
   "outputs": [
    {
     "name": "stdout",
     "output_type": "stream",
     "text": [
      "Enter the value of a =1\n",
      "Enter the value of b =2\n",
      "2 is gretaer than 1\n"
     ]
    }
   ],
   "source": [
    "a = int(input(\"Enter the value of a =\"))\n",
    "b = int(input(\"Enter the value of b =\"))\n",
    "if a>b:\n",
    "    print(a,\" is greater than\",b)\n",
    "elif b>a:\n",
    "    print(b,\"is gretaer than\",a)\n",
    "    \n",
    "else:\n",
    "    print(\"Both are euual\")"
   ]
  },
  {
   "cell_type": "code",
   "execution_count": 10,
   "id": "2de7fb55",
   "metadata": {},
   "outputs": [
    {
     "name": "stdout",
     "output_type": "stream",
     "text": [
      "Enter the value of a =12\n",
      "Enter the value of b =2\n",
      "Enter + or - or * or //\n",
      "6.0\n"
     ]
    }
   ],
   "source": [
    "a = int(input(\"Enter the value of a =\"))\n",
    "b = int(input(\"Enter the value of b =\"))\n",
    "o = input(\"Enter + or - or * or /\")\n",
    "if o == '+':\n",
    "    print(a=b)\n",
    "elif o == '-':\n",
    "    print(a-b)\n",
    "elif o == '*':\n",
    "    priint(a*b)\n",
    "elif o == '/':\n",
    "    print(a/b)\n",
    "else:\n",
    "    print(\"Error\")"
   ]
  },
  {
   "cell_type": "code",
   "execution_count": 12,
   "id": "faeb008d",
   "metadata": {},
   "outputs": [
    {
     "name": "stdout",
     "output_type": "stream",
     "text": [
      "Enter the value of a =0\n",
      "Enter the value of b =0\n",
      "Enter + or - or * or //\n",
      "the value of b can't be 0 when o = /\n"
     ]
    }
   ],
   "source": [
    "# operator \n",
    "# and &\n",
    "# or |\n",
    "\n",
    "a = int(input(\"Enter the value of a =\"))\n",
    "b = int(input(\"Enter the value of b =\"))\n",
    "o = input(\"Enter + or - or * or /\")\n",
    "if o == '+':\n",
    "    print(a=b)\n",
    "elif o == '-':\n",
    "    print(a-b)\n",
    "elif o == '*':\n",
    "    priint(a*b)\n",
    "elif (o == '/') & (b != 0):\n",
    "    print(a/b)\n",
    "elif (o == '/') & (b== 0):\n",
    "    print(\"the value of b can't be 0 when o = /\")\n",
    "else:\n",
    "    print(\"Error, Enter valid operator\")\n",
    "\n"
   ]
  },
  {
   "cell_type": "code",
   "execution_count": 18,
   "id": "816bb0dd",
   "metadata": {},
   "outputs": [
    {
     "name": "stdout",
     "output_type": "stream",
     "text": [
      "Marks of Physics =60\n",
      "Marks of Chemistry= 70\n",
      "Marks of Math =80\n",
      "Marks of English =90\n",
      "Marks of Nepali =50\n",
      "Total Marks is  350.0\n",
      "Percentage 70.0\n",
      "grade B\n"
     ]
    }
   ],
   "source": [
    "a = float(input(\"Marks of Physics =\"))\n",
    "b = float(input(\"Marks of Chemistry= \"))\n",
    "c = float(input(\"Marks of Math =\"))\n",
    "d = float(input(\"Marks of English =\"))\n",
    "e = float(input(\"Marks of Nepali =\"))\n",
    "\n",
    "total = a+b+c+d+e\n",
    "per = total/5\n",
    "\n",
    "if per >=80:\n",
    "    grade = \"A\"\n",
    "elif per >=60:\n",
    "    grade = \"B\"\n",
    "elif per >=45:\n",
    "    grade = \"C\"\n",
    "else:\n",
    "    grade =\"F\"\n",
    "\n",
    "print(\"Total Marks is \", total)\n",
    "print(\"Percentage\", per)\n",
    "print(\"grade\", grade)"
   ]
  },
  {
   "cell_type": "code",
   "execution_count": null,
   "id": "f014d0a0",
   "metadata": {},
   "outputs": [],
   "source": []
  },
  {
   "cell_type": "code",
   "execution_count": null,
   "id": "285c082f",
   "metadata": {},
   "outputs": [],
   "source": []
  },
  {
   "cell_type": "code",
   "execution_count": null,
   "id": "5f9f0045",
   "metadata": {},
   "outputs": [],
   "source": []
  }
 ],
 "metadata": {
  "kernelspec": {
   "display_name": "Python 3 (ipykernel)",
   "language": "python",
   "name": "python3"
  },
  "language_info": {
   "codemirror_mode": {
    "name": "ipython",
    "version": 3
   },
   "file_extension": ".py",
   "mimetype": "text/x-python",
   "name": "python",
   "nbconvert_exporter": "python",
   "pygments_lexer": "ipython3",
   "version": "3.11.5"
  }
 },
 "nbformat": 4,
 "nbformat_minor": 5
}
