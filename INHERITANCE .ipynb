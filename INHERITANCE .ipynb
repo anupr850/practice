{
 "cells": [
  {
   "cell_type": "code",
   "execution_count": null,
   "id": "2f83e663",
   "metadata": {},
   "outputs": [],
   "source": [
    "# class A:\n",
    "#     pass\n",
    "\n",
    "\n",
    "# class B(A):\n",
    "#     pass\n",
    "\n",
    "\n",
    "# obj = B(A)"
   ]
  },
  {
   "cell_type": "code",
   "execution_count": 1,
   "id": "85af2395",
   "metadata": {},
   "outputs": [
    {
     "name": "stdout",
     "output_type": "stream",
     "text": [
      "hello world my name is Ram, i am from Kathmandu and i am 44 years old\n",
      "Ram 44 Kathmandu\n"
     ]
    }
   ],
   "source": [
    "class A:\n",
    "    def __init__(self):\n",
    "        self.name = \"Ram\"\n",
    "        self.age = 44\n",
    "        self.add = \"Kathmandu\"\n",
    "        \n",
    "    def data(self):\n",
    "        print(self.name,self.age,self.add)\n",
    "        \n",
    "class B(A):\n",
    "    def info(self):\n",
    "        print(f\"hello world my name is {self.name}, i am from {self.add} and i am {self.age} years old\")\n",
    "        \n",
    "obj = B()\n",
    "obj.info()\n",
    "obj.data()"
   ]
  },
  {
   "cell_type": "code",
   "execution_count": 9,
   "id": "b3d8f52c",
   "metadata": {},
   "outputs": [
    {
     "name": "stdout",
     "output_type": "stream",
     "text": [
      "Enter name = Ram\n",
      "Enter age = 44\n",
      "Enter address = Kathmandu \n",
      "hello world my name is Ram, i am from Kathmandu  and i am 44.0 years old\n",
      "Ram 44.0 Kathmandu \n"
     ]
    }
   ],
   "source": [
    "class A:\n",
    "    def __init__(self, name, age, add):\n",
    "        self.name = name\n",
    "        self.age = age\n",
    "        self.add = add\n",
    "    \n",
    "        \n",
    "    def data (self):\n",
    "        print(self.name,self.age,self.add)\n",
    "        \n",
    "class B(A):\n",
    "    def info(self):\n",
    "        print(f\"hello world my name is {self.name}, i am from {self.add} and i am {self.age} years old\")\n",
    "        \n",
    "name = input(\"Enter name = \")\n",
    "age = float(input(\"Enter age = \"))\n",
    "add = input(\"Enter address = \")\n",
    "        \n",
    "obj = B(name, age, add)\n",
    "obj.info()\n",
    "obj.data()"
   ]
  },
  {
   "cell_type": "code",
   "execution_count": 12,
   "id": "4c2afdd0",
   "metadata": {},
   "outputs": [
    {
     "name": "stdout",
     "output_type": "stream",
     "text": [
      "Enter name = Ram \n",
      "Enter age = 44\n",
      "Enter address = Kathmandu \n",
      "hello world my name is Ram , i am from Kathmandu  and i am 44.0 years old\n",
      "\n",
      "44.0\n"
     ]
    }
   ],
   "source": [
    "class A:\n",
    "    def __init__(self, age):\n",
    "        \n",
    "        self.age = age\n",
    "    \n",
    "        \n",
    "    def data (self):\n",
    "        print(self.age)\n",
    "        \n",
    "class B(A):\n",
    "    def __init__(self,name,age,add):\n",
    "        self.name = name \n",
    "        self.add = add\n",
    "        \n",
    "        A.__init__(self,age)\n",
    "            \n",
    "        \n",
    "    def info(self):\n",
    "        print(f\"hello world my name is {self.name}, i am from {self.add} and i am {self.age} years old\")\n",
    "        print(f\"\")\n",
    "        \n",
    "name = input(\"Enter name = \")\n",
    "age = float(input(\"Enter age = \"))\n",
    "add = input(\"Enter address = \")\n",
    "        \n",
    "obj = B(name, age, add)\n",
    "obj.info()\n",
    "obj.data()"
   ]
  },
  {
   "cell_type": "code",
   "execution_count": null,
   "id": "daebf02d",
   "metadata": {},
   "outputs": [],
   "source": [
    "# Types of INHERITANCE"
   ]
  },
  {
   "cell_type": "code",
   "execution_count": 13,
   "id": "1f6b177a",
   "metadata": {},
   "outputs": [],
   "source": [
    "# multi LEVEL\n",
    "class A:\n",
    "    pass\n",
    "\n",
    "class B(A):\n",
    "    pass\n",
    "\n",
    "class C(B):\n",
    "    pass\n",
    "\n",
    "obj = C()"
   ]
  },
  {
   "cell_type": "code",
   "execution_count": 16,
   "id": "92cd8672",
   "metadata": {},
   "outputs": [
    {
     "name": "stdout",
     "output_type": "stream",
     "text": [
      "Hello world i am None, I am None years old and i am from Kathmandu \n"
     ]
    }
   ],
   "source": [
    "class A:\n",
    "    def __init__(self):\n",
    "        self.name = \"Ram\"\n",
    "        \n",
    "class B(A):\n",
    "    def __init__(self):\n",
    "        self.age = 44\n",
    "        self.name = A.__init__(self)\n",
    "        \n",
    "class C(B):\n",
    "    def __init__(self):\n",
    "        self.add = \"Kathmandu\"\n",
    "        self.age = B.__init__(self)\n",
    "        \n",
    "    def info(self):\n",
    "        print(f\"Hello world i am {self.name}, I am {self.age} years old and i am from {self.add} \")\n",
    "        \n",
    "obj = C()\n",
    "obj.info()"
   ]
  },
  {
   "cell_type": "code",
   "execution_count": 1,
   "id": "46a6badb",
   "metadata": {},
   "outputs": [
    {
     "ename": "SyntaxError",
     "evalue": "invalid syntax (3591949700.py, line 11)",
     "output_type": "error",
     "traceback": [
      "\u001b[1;36m  Cell \u001b[1;32mIn[1], line 11\u001b[1;36m\u001b[0m\n\u001b[1;33m    self.age =\u001b[0m\n\u001b[1;37m               ^\u001b[0m\n\u001b[1;31mSyntaxError\u001b[0m\u001b[1;31m:\u001b[0m invalid syntax\n"
     ]
    }
   ],
   "source": [
    "#multi class\n",
    "class A:\n",
    "    def __init__(self):\n",
    "        self.name = \"Ram\"\n",
    "        \n",
    "    def a(self):\n",
    "        pass\n",
    "        \n",
    "class B:\n",
    "    def __init__(self):\n",
    "        self.age = \n",
    "        \n",
    "class C(B):\n",
    "    def __init__(self):\n",
    "        self.add = \"Kathmandu\"\n",
    "        self.age = B.__init__(self)\n",
    "        \n",
    "    def info(self):\n",
    "        print(f\"Hello world i am {self.name}, I am {self.age} years old and i am from {self.add} \")\n",
    "        \n",
    "obj = C()\n",
    "obj.info()"
   ]
  },
  {
   "cell_type": "code",
   "execution_count": 3,
   "id": "e6f03316",
   "metadata": {},
   "outputs": [
    {
     "name": "stdout",
     "output_type": "stream",
     "text": [
      "Ramcharan\n",
      "44\n",
      "karna\n"
     ]
    }
   ],
   "source": [
    "# public members \n",
    "\n",
    "class info:\n",
    "    def __init__(self):\n",
    "        self._name = \"Ramcharan\"\n",
    "        self._age = 44\n",
    "        self._add = \"karnatak\"\n",
    "        \n",
    "obj = info()\n",
    "print(obj._name)\n",
    "print(obj._age)\n",
    "print(obj._add)\n",
    "        "
   ]
  },
  {
   "cell_type": "code",
   "execution_count": 5,
   "id": "2ed0d533",
   "metadata": {},
   "outputs": [
    {
     "ename": "AttributeError",
     "evalue": "'info' object has no attribute '__name'",
     "output_type": "error",
     "traceback": [
      "\u001b[1;31m---------------------------------------------------------------------------\u001b[0m",
      "\u001b[1;31mAttributeError\u001b[0m                            Traceback (most recent call last)",
      "Cell \u001b[1;32mIn[5], line 10\u001b[0m\n\u001b[0;32m      7\u001b[0m         \u001b[38;5;28mself\u001b[39m\u001b[38;5;241m.\u001b[39m__add \u001b[38;5;241m=\u001b[39m \u001b[38;5;124m\"\u001b[39m\u001b[38;5;124mkarnatak\u001b[39m\u001b[38;5;124m\"\u001b[39m\n\u001b[0;32m      9\u001b[0m obj \u001b[38;5;241m=\u001b[39m info()\n\u001b[1;32m---> 10\u001b[0m \u001b[38;5;28mprint\u001b[39m(obj\u001b[38;5;241m.\u001b[39m__name)\n\u001b[0;32m     11\u001b[0m \u001b[38;5;28mprint\u001b[39m(obj\u001b[38;5;241m.\u001b[39m__age)\n\u001b[0;32m     12\u001b[0m \u001b[38;5;28mprint\u001b[39m(obj\u001b[38;5;241m.\u001b[39m__add)\n",
      "\u001b[1;31mAttributeError\u001b[0m: 'info' object has no attribute '__name'"
     ]
    }
   ],
   "source": [
    "# privetly members \n",
    "\n",
    "class info:\n",
    "    def __init__(self):\n",
    "        self.__name = \"Ramcharan\"\n",
    "        self.__age = 44\n",
    "        self.__add = \"karnatak\"\n",
    "        \n",
    "obj = info()\n",
    "print(obj.__name)\n",
    "print(obj.__age)\n",
    "print(obj.__add)\n",
    "        "
   ]
  },
  {
   "cell_type": "code",
   "execution_count": 9,
   "id": "aa4d4f56",
   "metadata": {},
   "outputs": [
    {
     "name": "stdout",
     "output_type": "stream",
     "text": [
      "Enter name = ra m\n",
      "Enter age = 44\n",
      "Enter address = kathmandu\n",
      "hello world my name is ra m, i am from kathmandu and i am 44.0 years old\n",
      "ra m 44.0 kathmandu\n",
      "data method class A is called from class B None\n",
      "ra m 44.0 kathmandu\n"
     ]
    }
   ],
   "source": [
    "class A:\n",
    "    def __init__(self, name, age, add):\n",
    "        self.name = name #public\n",
    "        self._age = age   #protected\n",
    "        self.__add = add    #private\n",
    "    \n",
    "        \n",
    "    def data (self):\n",
    "        print(self.name,self._age,self.__add)\n",
    "        \n",
    "class B(A):\n",
    "    def info(self):\n",
    "        print(f\"hello world my name is {self.name}, i am from {self._A__add} and i am {self._age} years old\")\n",
    "        print(\"data method class A is called from class B\",A.data(self))\n",
    "        \n",
    "name = input(\"Enter name = \")\n",
    "age = float(input(\"Enter age = \"))\n",
    "add = input(\"Enter address = \")\n",
    "        \n",
    "obj = B(name, age, add)\n",
    "obj.info()\n",
    "obj.data()"
   ]
  },
  {
   "cell_type": "code",
   "execution_count": 13,
   "id": "def890a9",
   "metadata": {},
   "outputs": [
    {
     "name": "stdout",
     "output_type": "stream",
     "text": [
      "11\n",
      "<class '__main__.Point'>\n"
     ]
    }
   ],
   "source": [
    "class Point:\n",
    "    def __init__(self, x =0, y= 0):\n",
    "        self.x = x\n",
    "        self.y = y\n",
    "        \n",
    "    def __str__(self):\n",
    "        return f\"{self.x}{self.y}\"\n",
    "    \n",
    "    def __add__(self,other):\n",
    "        x = self.x + other.x\n",
    "        y = self.y + other.y\n",
    "\n",
    "        return Point(x,y)\n",
    "    \n",
    "p1 = Point(2,3)\n",
    "p2 = Point(-1,-2)\n",
    "print(p1+p2)\n",
    "print(type(p1+p2))"
   ]
  },
  {
   "cell_type": "code",
   "execution_count": 16,
   "id": "b353e613",
   "metadata": {},
   "outputs": [
    {
     "name": "stdout",
     "output_type": "stream",
     "text": [
      "This is __init__method 2\n",
      "This is __init__method -1\n",
      "This is add method 1\n",
      "This is __init__method 1\n",
      "This is __str__ method 1\n",
      "1\n",
      "This is add method 1\n",
      "This is __init__method 1\n",
      "<class '__main__.Point'>\n"
     ]
    }
   ],
   "source": [
    "class Point:\n",
    "    def __init__(self, x =0, y= 0):\n",
    "        self.x = x\n",
    "        print(\"This is __init__method\", self.x)\n",
    "        \n",
    "    def __str__(self):\n",
    "        print(\"This is __str__ method\", self.x)\n",
    "        return f\"{self.x}\"\n",
    "    \n",
    "    def __add__(self,other):\n",
    "        x = self.x + other.x\n",
    "        print(\"This is add method\",x)\n",
    "\n",
    "        return Point(x)\n",
    "    \n",
    "p1 = Point(2,3)\n",
    "p2 = Point(-1,-2)\n",
    "print(p1+p2)\n",
    "print(type(p1+p2))"
   ]
  },
  {
   "cell_type": "code",
   "execution_count": 18,
   "id": "ea03a9d5",
   "metadata": {},
   "outputs": [
    {
     "name": "stdout",
     "output_type": "stream",
     "text": [
      "This is __init__method 2\n",
      "3\n",
      "This is __init__method -1\n",
      "-2\n",
      "This is __init__method 4\n",
      "5\n",
      "This is add method 1\n",
      "This is __init__method 1\n",
      "0\n",
      "This is add method 5\n",
      "This is __init__method 5\n",
      "0\n",
      "This is __str__ method 5\n",
      "5\n",
      "This is add method 1\n",
      "This is __init__method 1\n",
      "0\n",
      "<class '__main__.Point'>\n"
     ]
    }
   ],
   "source": [
    "class Point:\n",
    "    def __init__(self, x =0, y= 0):\n",
    "        self.x = x\n",
    "        print(\"This is __init__method\", self.x)\n",
    "        self.y =y\n",
    "        print(self.y)\n",
    "        \n",
    "    def __str__(self):\n",
    "        print(\"This is __str__ method\", self.x)\n",
    "        return f\"{self.x}\"\n",
    "    \n",
    "    \n",
    "    def __add__(self,other):\n",
    "        x = self.x + other.x\n",
    "        print(\"This is add method\",x)\n",
    "        \n",
    "\n",
    "        return Point(x)\n",
    "    \n",
    "p1 = Point(2,3)\n",
    "p2 = Point(-1,-2)\n",
    "p3 = Point(4,5)\n",
    "print(p1+p2+p3)\n",
    "print(type(p1+p2))"
   ]
  },
  {
   "cell_type": "code",
   "execution_count": null,
   "id": "2be3e8cc",
   "metadata": {},
   "outputs": [],
   "source": []
  }
 ],
 "metadata": {
  "kernelspec": {
   "display_name": "Python 3 (ipykernel)",
   "language": "python",
   "name": "python3"
  },
  "language_info": {
   "codemirror_mode": {
    "name": "ipython",
    "version": 3
   },
   "file_extension": ".py",
   "mimetype": "text/x-python",
   "name": "python",
   "nbconvert_exporter": "python",
   "pygments_lexer": "ipython3",
   "version": "3.11.5"
  }
 },
 "nbformat": 4,
 "nbformat_minor": 5
}
